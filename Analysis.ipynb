{
 "cells": [
  {
   "cell_type": "code",
   "execution_count": 4,
   "id": "e1b510eb",
   "metadata": {},
   "outputs": [],
   "source": [
    "import numpy as np\n",
    "import matplotlib.pyplot as plt\n",
    "import seaborn as sns\n",
    "import pandas as pd, json, re, seaborn as sns, matplotlib.pyplot as plt\n",
    "import plotly.express as px, plotly.graph_objects as go"
   ]
  },
  {
   "cell_type": "markdown",
   "id": "d7651c83",
   "metadata": {},
   "source": [
    "## 🔧 1. Load & tidy the raw EM-DAT file  \n",
    "The original file is delivered as both `.xlsx` and `.csv`; here we pick the **CSV** (faster for notebooks). "
   ]
  },
  {
   "cell_type": "code",
   "execution_count": 5,
   "id": "16e8d6aa",
   "metadata": {},
   "outputs": [],
   "source": [
    "emdat = pd.read_excel('public_emdat_custom_request.xlsx')\n",
    "\n",
    "df = pd.read_csv('public_emdat_custom_request.csv', sep=',')\n",
    "\n",
    "df['Country']         = df['Country']\n",
    "df['Deaths']          = pd.to_numeric(df['Total Deaths'], errors='coerce').fillna(0)\n",
    "df['Affected']        = pd.to_numeric(df['Total Affected'], errors='coerce').fillna(0)\n",
    "df['Loss_USD_adj']    = pd.to_numeric(df['Total Damage, Adjusted (\\'000 US$)'], errors='coerce').fillna(0) * 1_000\n",
    "df['Year']            = pd.to_numeric(df['Start Year'], errors='coerce').astype('Int64')\n",
    "df['Disaster Type']   = df['Disaster Type']"
   ]
  },
  {
   "cell_type": "markdown",
   "id": "61e1251c",
   "metadata": {},
   "source": [
    "## 🔍 2. Column sanity-check & type coercion  \n",
    "We first **whitelist** the columns we actually need, then ensure their dtypes are **numerical** for downstream math.  \n",
    "- `Start Year` / `End Year` → `float` (handles any missing or malformed years).  \n",
    "- All impact metrics → `float`, `NaN → NaN` (we’ll fill later if required)."
   ]
  },
  {
   "cell_type": "code",
   "execution_count": 6,
   "id": "92a03f47",
   "metadata": {},
   "outputs": [],
   "source": [
    "cols_needed = [\n",
    "    'Start Year', 'End Year', 'Disaster Group', 'Disaster Type',\n",
    "    'Disaster Subtype', 'Region', 'Subregion', 'Country', 'ISO',\n",
    "    'Total Deaths', 'No. Injured', 'No. Affected', 'No. Homeless', 'Total Affected'\n",
    "]\n",
    "\n",
    "existing_cols = [c for c in cols_needed if c in emdat.columns]\n",
    "\n",
    "for c in ['Start Year', 'End Year']:\n",
    "    if c in emdat.columns:\n",
    "        emdat[c] = pd.to_numeric(emdat[c], errors='coerce')\n",
    "\n",
    "impact_cols = ['Total Deaths', 'No. Injured', 'No. Affected', 'No. Homeless', 'Total Affected']\n",
    "for c in impact_cols:\n",
    "    if c in emdat.columns:\n",
    "        emdat[c] = pd.to_numeric(emdat[c], errors='coerce')"
   ]
  },
  {
   "cell_type": "markdown",
   "id": "b8cfb39d",
   "metadata": {},
   "source": [
    "## 🗓️ 3. Derive a single **Year** column  \n",
    "Because some records only have a start year or an end year, we:  \n",
    "1. Prefer the **End Year** if present (it is usually the more recent date).  \n",
    "2. Fall back to **Start Year** if End Year is missing.  \n",
    "3. Leave `NaN` when neither exists (rare)."
   ]
  },
  {
   "cell_type": "code",
   "execution_count": 7,
   "id": "6b705d05",
   "metadata": {},
   "outputs": [],
   "source": [
    "if 'End Year' in emdat.columns and 'Start Year' in emdat.columns:\n",
    "    emdat['Year'] = emdat['End Year'].fillna(emdat['Start Year'])\n",
    "elif 'Start Year' in emdat.columns:\n",
    "    emdat['Year'] = emdat['Start Year']\n",
    "else:\n",
    "    emdat['Year'] = np.nan"
   ]
  },
  {
   "cell_type": "markdown",
   "id": "5cb553b3",
   "metadata": {},
   "source": [
    "## 🧹 4. Filter out implausible year values  \n",
    "Real disasters should fall somewhere between **1900** and **2025**.  \n",
    "We drop any rows outside this range to avoid artefacts from data-entry errors."
   ]
  },
  {
   "cell_type": "code",
   "execution_count": 8,
   "id": "aae1e655",
   "metadata": {},
   "outputs": [],
   "source": [
    "emdat = emdat[(emdat['Year'] >= 1900) & (emdat['Year'] <= 2025)]\n"
   ]
  },
  {
   "cell_type": "markdown",
   "id": "cc4ad58e",
   "metadata": {},
   "source": [
    "## 👀 5. Quick sanity check  \n",
    "Let’s eyeball the first 10 rows to confirm the new **Year** column and the key impact fields are populated as expected."
   ]
  },
  {
   "cell_type": "code",
   "execution_count": 9,
   "id": "07190242",
   "metadata": {},
   "outputs": [
    {
     "name": "stdout",
     "output_type": "stream",
     "text": [
      "Preview of EM-DAT Data with Year and key fields:\n",
      "   Year Disaster Group        Disaster Type    Region  \\\n",
      "0  2001        Natural              Drought    Africa   \n",
      "1  2001        Natural              Drought    Africa   \n",
      "2  2001        Natural              Drought    Africa   \n",
      "3  2000        Natural                Flood    Africa   \n",
      "4  2000        Natural  Extreme temperature      Asia   \n",
      "5  2000        Natural    Volcanic activity  Americas   \n",
      "6  2000        Natural                Storm      Asia   \n",
      "7  2000        Natural                Flood    Africa   \n",
      "8  2000        Natural             Wildfire    Africa   \n",
      "9  2000        Natural                Flood  Americas   \n",
      "\n",
      "                      Country  Total Deaths  Total Affected  \n",
      "0                    Djibouti           NaN        100000.0  \n",
      "1                       Sudan           NaN       2000000.0  \n",
      "2                     Somalia          21.0       1200000.0  \n",
      "3                      Angola          31.0         70000.0  \n",
      "4                  Bangladesh          49.0             NaN  \n",
      "5                   Guatemala           NaN           800.0  \n",
      "6  Iran (Islamic Republic of)           3.0          5500.0  \n",
      "7                  Mozambique         800.0       4500000.0  \n",
      "8                South Africa           NaN          1250.0  \n",
      "9                      Brazil          26.0         70000.0  \n"
     ]
    }
   ],
   "source": [
    "print('Preview of EM-DAT Data with Year and key fields:')\n",
    "print(emdat[['Year','Disaster Group','Disaster Type','Region','Country','Total Deaths','Total Affected']].head(10))\n"
   ]
  },
  {
   "cell_type": "markdown",
   "id": "9524e8c8",
   "metadata": {},
   "source": [
    "## 📈 6. Count disasters per calendar year  \n",
    "Create a tidy **time-series table** (`annual_events`) with one row per year and the total number of recorded disasters (`Events`).  \n",
    "We’ll use this for the line-chart later."
   ]
  },
  {
   "cell_type": "code",
   "execution_count": 10,
   "id": "2e186555",
   "metadata": {},
   "outputs": [],
   "source": [
    "annual_events = emdat.groupby('Year').size().rename('Events').reset_index()\n"
   ]
  },
  {
   "cell_type": "markdown",
   "id": "4b9fedf8",
   "metadata": {},
   "source": [
    "## 📊 7. Interactive trend: disasters per year  \n",
    "A quick **Plotly line chart** visualising how disaster frequency evolved over the years."
   ]
  },
  {
   "cell_type": "code",
   "execution_count": 21,
   "id": "13060e41",
   "metadata": {},
   "outputs": [
    {
     "data": {
      "application/vnd.plotly.v1+json": {
       "config": {
        "plotlyServerURL": "https://plot.ly"
       },
       "data": [
        {
         "hovertemplate": "Year=%{x}<br>Count=%{y}<extra></extra>",
         "legendgroup": "",
         "line": {
          "color": "#636efa",
          "dash": "solid"
         },
         "marker": {
          "symbol": "circle"
         },
         "mode": "lines+markers",
         "name": "",
         "orientation": "v",
         "showlegend": false,
         "type": "scatter",
         "x": {
          "bdata": "0AfRB9IH0wfUB9UH1gfXB9gH2QfaB9sH3AfdB94H3wfgB+EH4gfjB+QH5QfmB+cH6AfpBw==",
          "dtype": "i2"
         },
         "xaxis": "x",
         "y": {
          "bdata": "9AGvAegBggGJAeIBywG9AYUBhAGwAWIBcwFjAVYBjQFdAXMBTwG0AZsBtgG0AcwBmQG0AA==",
          "dtype": "i2"
         },
         "yaxis": "y"
        }
       ],
       "layout": {
        "legend": {
         "tracegroupgap": 0
        },
        "template": {
         "data": {
          "bar": [
           {
            "error_x": {
             "color": "#2a3f5f"
            },
            "error_y": {
             "color": "#2a3f5f"
            },
            "marker": {
             "line": {
              "color": "#E5ECF6",
              "width": 0.5
             },
             "pattern": {
              "fillmode": "overlay",
              "size": 10,
              "solidity": 0.2
             }
            },
            "type": "bar"
           }
          ],
          "barpolar": [
           {
            "marker": {
             "line": {
              "color": "#E5ECF6",
              "width": 0.5
             },
             "pattern": {
              "fillmode": "overlay",
              "size": 10,
              "solidity": 0.2
             }
            },
            "type": "barpolar"
           }
          ],
          "carpet": [
           {
            "aaxis": {
             "endlinecolor": "#2a3f5f",
             "gridcolor": "white",
             "linecolor": "white",
             "minorgridcolor": "white",
             "startlinecolor": "#2a3f5f"
            },
            "baxis": {
             "endlinecolor": "#2a3f5f",
             "gridcolor": "white",
             "linecolor": "white",
             "minorgridcolor": "white",
             "startlinecolor": "#2a3f5f"
            },
            "type": "carpet"
           }
          ],
          "choropleth": [
           {
            "colorbar": {
             "outlinewidth": 0,
             "ticks": ""
            },
            "type": "choropleth"
           }
          ],
          "contour": [
           {
            "colorbar": {
             "outlinewidth": 0,
             "ticks": ""
            },
            "colorscale": [
             [
              0,
              "#0d0887"
             ],
             [
              0.1111111111111111,
              "#46039f"
             ],
             [
              0.2222222222222222,
              "#7201a8"
             ],
             [
              0.3333333333333333,
              "#9c179e"
             ],
             [
              0.4444444444444444,
              "#bd3786"
             ],
             [
              0.5555555555555556,
              "#d8576b"
             ],
             [
              0.6666666666666666,
              "#ed7953"
             ],
             [
              0.7777777777777778,
              "#fb9f3a"
             ],
             [
              0.8888888888888888,
              "#fdca26"
             ],
             [
              1,
              "#f0f921"
             ]
            ],
            "type": "contour"
           }
          ],
          "contourcarpet": [
           {
            "colorbar": {
             "outlinewidth": 0,
             "ticks": ""
            },
            "type": "contourcarpet"
           }
          ],
          "heatmap": [
           {
            "colorbar": {
             "outlinewidth": 0,
             "ticks": ""
            },
            "colorscale": [
             [
              0,
              "#0d0887"
             ],
             [
              0.1111111111111111,
              "#46039f"
             ],
             [
              0.2222222222222222,
              "#7201a8"
             ],
             [
              0.3333333333333333,
              "#9c179e"
             ],
             [
              0.4444444444444444,
              "#bd3786"
             ],
             [
              0.5555555555555556,
              "#d8576b"
             ],
             [
              0.6666666666666666,
              "#ed7953"
             ],
             [
              0.7777777777777778,
              "#fb9f3a"
             ],
             [
              0.8888888888888888,
              "#fdca26"
             ],
             [
              1,
              "#f0f921"
             ]
            ],
            "type": "heatmap"
           }
          ],
          "histogram": [
           {
            "marker": {
             "pattern": {
              "fillmode": "overlay",
              "size": 10,
              "solidity": 0.2
             }
            },
            "type": "histogram"
           }
          ],
          "histogram2d": [
           {
            "colorbar": {
             "outlinewidth": 0,
             "ticks": ""
            },
            "colorscale": [
             [
              0,
              "#0d0887"
             ],
             [
              0.1111111111111111,
              "#46039f"
             ],
             [
              0.2222222222222222,
              "#7201a8"
             ],
             [
              0.3333333333333333,
              "#9c179e"
             ],
             [
              0.4444444444444444,
              "#bd3786"
             ],
             [
              0.5555555555555556,
              "#d8576b"
             ],
             [
              0.6666666666666666,
              "#ed7953"
             ],
             [
              0.7777777777777778,
              "#fb9f3a"
             ],
             [
              0.8888888888888888,
              "#fdca26"
             ],
             [
              1,
              "#f0f921"
             ]
            ],
            "type": "histogram2d"
           }
          ],
          "histogram2dcontour": [
           {
            "colorbar": {
             "outlinewidth": 0,
             "ticks": ""
            },
            "colorscale": [
             [
              0,
              "#0d0887"
             ],
             [
              0.1111111111111111,
              "#46039f"
             ],
             [
              0.2222222222222222,
              "#7201a8"
             ],
             [
              0.3333333333333333,
              "#9c179e"
             ],
             [
              0.4444444444444444,
              "#bd3786"
             ],
             [
              0.5555555555555556,
              "#d8576b"
             ],
             [
              0.6666666666666666,
              "#ed7953"
             ],
             [
              0.7777777777777778,
              "#fb9f3a"
             ],
             [
              0.8888888888888888,
              "#fdca26"
             ],
             [
              1,
              "#f0f921"
             ]
            ],
            "type": "histogram2dcontour"
           }
          ],
          "mesh3d": [
           {
            "colorbar": {
             "outlinewidth": 0,
             "ticks": ""
            },
            "type": "mesh3d"
           }
          ],
          "parcoords": [
           {
            "line": {
             "colorbar": {
              "outlinewidth": 0,
              "ticks": ""
             }
            },
            "type": "parcoords"
           }
          ],
          "pie": [
           {
            "automargin": true,
            "type": "pie"
           }
          ],
          "scatter": [
           {
            "fillpattern": {
             "fillmode": "overlay",
             "size": 10,
             "solidity": 0.2
            },
            "type": "scatter"
           }
          ],
          "scatter3d": [
           {
            "line": {
             "colorbar": {
              "outlinewidth": 0,
              "ticks": ""
             }
            },
            "marker": {
             "colorbar": {
              "outlinewidth": 0,
              "ticks": ""
             }
            },
            "type": "scatter3d"
           }
          ],
          "scattercarpet": [
           {
            "marker": {
             "colorbar": {
              "outlinewidth": 0,
              "ticks": ""
             }
            },
            "type": "scattercarpet"
           }
          ],
          "scattergeo": [
           {
            "marker": {
             "colorbar": {
              "outlinewidth": 0,
              "ticks": ""
             }
            },
            "type": "scattergeo"
           }
          ],
          "scattergl": [
           {
            "marker": {
             "colorbar": {
              "outlinewidth": 0,
              "ticks": ""
             }
            },
            "type": "scattergl"
           }
          ],
          "scattermap": [
           {
            "marker": {
             "colorbar": {
              "outlinewidth": 0,
              "ticks": ""
             }
            },
            "type": "scattermap"
           }
          ],
          "scattermapbox": [
           {
            "marker": {
             "colorbar": {
              "outlinewidth": 0,
              "ticks": ""
             }
            },
            "type": "scattermapbox"
           }
          ],
          "scatterpolar": [
           {
            "marker": {
             "colorbar": {
              "outlinewidth": 0,
              "ticks": ""
             }
            },
            "type": "scatterpolar"
           }
          ],
          "scatterpolargl": [
           {
            "marker": {
             "colorbar": {
              "outlinewidth": 0,
              "ticks": ""
             }
            },
            "type": "scatterpolargl"
           }
          ],
          "scatterternary": [
           {
            "marker": {
             "colorbar": {
              "outlinewidth": 0,
              "ticks": ""
             }
            },
            "type": "scatterternary"
           }
          ],
          "surface": [
           {
            "colorbar": {
             "outlinewidth": 0,
             "ticks": ""
            },
            "colorscale": [
             [
              0,
              "#0d0887"
             ],
             [
              0.1111111111111111,
              "#46039f"
             ],
             [
              0.2222222222222222,
              "#7201a8"
             ],
             [
              0.3333333333333333,
              "#9c179e"
             ],
             [
              0.4444444444444444,
              "#bd3786"
             ],
             [
              0.5555555555555556,
              "#d8576b"
             ],
             [
              0.6666666666666666,
              "#ed7953"
             ],
             [
              0.7777777777777778,
              "#fb9f3a"
             ],
             [
              0.8888888888888888,
              "#fdca26"
             ],
             [
              1,
              "#f0f921"
             ]
            ],
            "type": "surface"
           }
          ],
          "table": [
           {
            "cells": {
             "fill": {
              "color": "#EBF0F8"
             },
             "line": {
              "color": "white"
             }
            },
            "header": {
             "fill": {
              "color": "#C8D4E3"
             },
             "line": {
              "color": "white"
             }
            },
            "type": "table"
           }
          ]
         },
         "layout": {
          "annotationdefaults": {
           "arrowcolor": "#2a3f5f",
           "arrowhead": 0,
           "arrowwidth": 1
          },
          "autotypenumbers": "strict",
          "coloraxis": {
           "colorbar": {
            "outlinewidth": 0,
            "ticks": ""
           }
          },
          "colorscale": {
           "diverging": [
            [
             0,
             "#8e0152"
            ],
            [
             0.1,
             "#c51b7d"
            ],
            [
             0.2,
             "#de77ae"
            ],
            [
             0.3,
             "#f1b6da"
            ],
            [
             0.4,
             "#fde0ef"
            ],
            [
             0.5,
             "#f7f7f7"
            ],
            [
             0.6,
             "#e6f5d0"
            ],
            [
             0.7,
             "#b8e186"
            ],
            [
             0.8,
             "#7fbc41"
            ],
            [
             0.9,
             "#4d9221"
            ],
            [
             1,
             "#276419"
            ]
           ],
           "sequential": [
            [
             0,
             "#0d0887"
            ],
            [
             0.1111111111111111,
             "#46039f"
            ],
            [
             0.2222222222222222,
             "#7201a8"
            ],
            [
             0.3333333333333333,
             "#9c179e"
            ],
            [
             0.4444444444444444,
             "#bd3786"
            ],
            [
             0.5555555555555556,
             "#d8576b"
            ],
            [
             0.6666666666666666,
             "#ed7953"
            ],
            [
             0.7777777777777778,
             "#fb9f3a"
            ],
            [
             0.8888888888888888,
             "#fdca26"
            ],
            [
             1,
             "#f0f921"
            ]
           ],
           "sequentialminus": [
            [
             0,
             "#0d0887"
            ],
            [
             0.1111111111111111,
             "#46039f"
            ],
            [
             0.2222222222222222,
             "#7201a8"
            ],
            [
             0.3333333333333333,
             "#9c179e"
            ],
            [
             0.4444444444444444,
             "#bd3786"
            ],
            [
             0.5555555555555556,
             "#d8576b"
            ],
            [
             0.6666666666666666,
             "#ed7953"
            ],
            [
             0.7777777777777778,
             "#fb9f3a"
            ],
            [
             0.8888888888888888,
             "#fdca26"
            ],
            [
             1,
             "#f0f921"
            ]
           ]
          },
          "colorway": [
           "#636efa",
           "#EF553B",
           "#00cc96",
           "#ab63fa",
           "#FFA15A",
           "#19d3f3",
           "#FF6692",
           "#B6E880",
           "#FF97FF",
           "#FECB52"
          ],
          "font": {
           "color": "#2a3f5f"
          },
          "geo": {
           "bgcolor": "white",
           "lakecolor": "white",
           "landcolor": "#E5ECF6",
           "showlakes": true,
           "showland": true,
           "subunitcolor": "white"
          },
          "hoverlabel": {
           "align": "left"
          },
          "hovermode": "closest",
          "mapbox": {
           "style": "light"
          },
          "paper_bgcolor": "white",
          "plot_bgcolor": "#E5ECF6",
          "polar": {
           "angularaxis": {
            "gridcolor": "white",
            "linecolor": "white",
            "ticks": ""
           },
           "bgcolor": "#E5ECF6",
           "radialaxis": {
            "gridcolor": "white",
            "linecolor": "white",
            "ticks": ""
           }
          },
          "scene": {
           "xaxis": {
            "backgroundcolor": "#E5ECF6",
            "gridcolor": "white",
            "gridwidth": 2,
            "linecolor": "white",
            "showbackground": true,
            "ticks": "",
            "zerolinecolor": "white"
           },
           "yaxis": {
            "backgroundcolor": "#E5ECF6",
            "gridcolor": "white",
            "gridwidth": 2,
            "linecolor": "white",
            "showbackground": true,
            "ticks": "",
            "zerolinecolor": "white"
           },
           "zaxis": {
            "backgroundcolor": "#E5ECF6",
            "gridcolor": "white",
            "gridwidth": 2,
            "linecolor": "white",
            "showbackground": true,
            "ticks": "",
            "zerolinecolor": "white"
           }
          },
          "shapedefaults": {
           "line": {
            "color": "#2a3f5f"
           }
          },
          "ternary": {
           "aaxis": {
            "gridcolor": "white",
            "linecolor": "white",
            "ticks": ""
           },
           "baxis": {
            "gridcolor": "white",
            "linecolor": "white",
            "ticks": ""
           },
           "bgcolor": "#E5ECF6",
           "caxis": {
            "gridcolor": "white",
            "linecolor": "white",
            "ticks": ""
           }
          },
          "title": {
           "x": 0.05
          },
          "xaxis": {
           "automargin": true,
           "gridcolor": "white",
           "linecolor": "white",
           "ticks": "",
           "title": {
            "standoff": 15
           },
           "zerolinecolor": "white",
           "zerolinewidth": 2
          },
          "yaxis": {
           "automargin": true,
           "gridcolor": "white",
           "linecolor": "white",
           "ticks": "",
           "title": {
            "standoff": 15
           },
           "zerolinecolor": "white",
           "zerolinewidth": 2
          }
         }
        },
        "title": {
         "text": "Number of disasters recorded per year"
        },
        "xaxis": {
         "anchor": "y",
         "domain": [
          0,
          1
         ],
         "title": {
          "text": "Year"
         }
        },
        "yaxis": {
         "anchor": "x",
         "domain": [
          0,
          1
         ],
         "title": {
          "text": "Count"
         }
        }
       }
      }
     },
     "metadata": {},
     "output_type": "display_data"
    }
   ],
   "source": [
    "yearly = df.groupby('Year').size().reset_index(name='Count')\n",
    "fig = px.line(yearly, x='Year', y='Count', markers=True,\n",
    "              title='Number of disasters recorded per year')\n",
    "fig.update_traces(mode='lines+markers')\n",
    "fig.show()"
   ]
  },
  {
   "cell_type": "markdown",
   "id": "6b17a333",
   "metadata": {},
   "source": [
    "## 💥 8. Risk-matrix bubble chart  \n",
    "Three dimensions in one view:  \n",
    "- **x-axis**: total people **affected** (log-scaled)  \n",
    "- **y-axis**: total **deaths** (log-scaled)  \n",
    "- **bubble size**: total **economic loss** (USD, adjusted)  \n",
    "- **colour**: **Disaster Type**\n",
    "\n",
    "Hover any bubble to reveal the country and exact values.  \n",
    "Log scales make extremes (e.g., China vs. small island states) visible on the same plot."
   ]
  },
  {
   "cell_type": "code",
   "execution_count": 22,
   "id": "abf8ecb7",
   "metadata": {},
   "outputs": [
    {
     "data": {
      "application/vnd.plotly.v1+json": {
       "config": {
        "plotlyServerURL": "https://plot.ly"
       },
       "data": [
        {
         "hovertemplate": "<b>%{hovertext}</b><br><br>Disaster Type=Drought<br>Affected=%{x}<br>Deaths=%{y}<br>Loss_USD_adj=%{marker.size}<extra></extra>",
         "hovertext": [
          "Afghanistan",
          "Angola",
          "Argentina",
          "Armenia",
          "Australia",
          "Azerbaijan",
          "Bangladesh",
          "Barbados",
          "Bolivia (Plurinational State of)",
          "Bosnia and Herzegovina",
          "Botswana",
          "Brazil",
          "Bulgaria",
          "Burkina Faso",
          "Burundi",
          "Cabo Verde",
          "Cambodia",
          "Cameroon",
          "Central African Republic",
          "Chad",
          "China",
          "Colombia",
          "Costa Rica",
          "Croatia",
          "Cuba",
          "Cyprus",
          "Democratic People's Republic of Korea",
          "Democratic Republic of the Congo",
          "Djibouti",
          "Ecuador",
          "El Salvador",
          "Eritrea",
          "Eswatini",
          "Ethiopia",
          "Fiji",
          "France",
          "Gambia",
          "Georgia",
          "Grenada",
          "Guatemala",
          "Guinea-Bissau",
          "Guyana",
          "Haiti",
          "Honduras",
          "Hungary",
          "India",
          "Indonesia",
          "Iran (Islamic Republic of)",
          "Iraq",
          "Italy",
          "Jamaica",
          "Jordan",
          "Kazakhstan",
          "Kenya",
          "Kyrgyzstan",
          "Lao People's Democratic Republic",
          "Lesotho",
          "Lithuania",
          "Madagascar",
          "Malawi",
          "Malaysia",
          "Mali",
          "Marshall Islands",
          "Mauritania",
          "Mexico",
          "Micronesia (Federated States of)",
          "Mongolia",
          "Mozambique",
          "Namibia",
          "Nepal",
          "New Zealand",
          "Nicaragua",
          "Niger",
          "Nigeria",
          "Pakistan",
          "Palau",
          "Panama",
          "Papua New Guinea",
          "Paraguay",
          "Peru",
          "Philippines",
          "Poland",
          "Portugal",
          "Republic of Korea",
          "Republic of Moldova",
          "Romania",
          "Russian Federation",
          "Rwanda",
          "Saint Lucia",
          "Saint Vincent and the Grenadines",
          "Samoa",
          "Senegal",
          "Solomon Islands",
          "Somalia",
          "South Africa",
          "South Sudan",
          "Spain",
          "Sri Lanka",
          "Sudan",
          "Syrian Arab Republic",
          "Tajikistan",
          "Thailand",
          "Timor-Leste",
          "Tonga",
          "Trinidad and Tobago",
          "Tuvalu",
          "Uganda",
          "Ukraine",
          "United Kingdom of Great Britain and Northern Ireland",
          "United Republic of Tanzania",
          "United States of America",
          "Uruguay",
          "Uzbekistan",
          "Venezuela (Bolivarian Republic of)",
          "Viet Nam",
          "Zambia",
          "Zimbabwe"
         ],
         "legendgroup": "Drought",
         "marker": {
          "color": "#636efa",
          "size": {
           "bdata": "AAAAEA2ep0EAAAAAAAAAAAAAgFrAlfBBAAAAEDy3pUEAAAA755PyQQAAABA8t6VBAAAAAAAAAAAAAAAAAAAAAAAAADjD0MVBAAAA2Idiv0EAAABAhcSLQQAAANO3OR1CAAAAAAAAAAAAAAAAAAAAAAAAAAAAAAAAAAAAAAAAAAAAAABAepmPQQAAAAAAAAAAAAAAAAAAAAAAAAAAAAAAAAAAIBPH3CRCAAAAAAAAAAAAAAAAAAAAAAAAAGg6xcBBAAAAANLiU0EAAAAAAAAAAAAAAAAAAAAAAAAAAAAAAAAAAAAAAAAAAAAAAAB490JBAAAAEGO5rkEAAAAAAAAAAAAAAAAAAAAAAAAA/Yfq4kEAAAAAAAAAAAAAAAAAAAAAAAAAAAAAAAAAAAD4P7e1QQAAAAAAAAAAAAAA0DTFokEAAAAAAAAAAAAAAIDXKnRBAAAAwKvOmkEAAAAAAAAAAAAAACDrU6RBAACAdS/R/UEAAAAAKAQ6QQAAAAAAAAAAAAAAAAAAAAAAAICzlwXxQQAAAICQD3dBAAAAAAAAAAAAAAAAAAAAAAAAAOiMD7JBAAAAAAAAAAAAAAAAAAAAAAAAAAAAAAAAAAAASOnrtEEAAAAAAAAAAAAAAACE17dBAAAAAAAAAAAAAAAAAAAAAAAAAAACvVhBAAAAAAAAAAAAAABoJtS1QQAAAAAAAAAAAAAAAAAAAAAAAAAAAAAAAAAAAEBYvaNBAAAAAAAAAAAAAABCf4PQQQAAAAAAAAAAAAAAAAAAAAAAAAAAAAAAAAAAAAAAAAAAAAAAAAAAAAAAAADwx2m1QQAAAKC97pJBAAAAAAAAAAAAAAAAAAAAAAAAAGCKJ6FBAAAAAAAAAAAAAAA8u47gQQAAAAAAAAAAAAAAjEVOwkEAAAD8DiXLQQAAAEs1nOpBAAAAAAAAAAAAAAAAAAAAAAAAAAAAAAAAAAAAAAAAAAAAAAAAAAAAAAAAAAAAAAAAAAAAbC8h0UEAAABKO0jeQQAAAAAAAAAAAAAAdKdo4kEAAACAnkKMQQAAAAAAAAAAAAAAAAAAAAAAAABAhsGYQQAAgN/xzfJBAAAAAAAAAAAAAAAAAAAAAAAAAAAAAAAAAAAAAAAAAAAAAAAAAAAAAAAAAFAVNOFBAAAAAAAAAAAAAAAAAAAAAAAAiApQeTxCAAAARGudwkEAAADgQ7eVQQAAAAAAAAAAAACAcC9vAUIAAAAABEBBQQAAAFixe9FB",
           "dtype": "f8"
          },
          "sizemode": "area",
          "sizeref": 439819017.5,
          "symbol": "circle"
         },
         "mode": "markers",
         "name": "Drought",
         "showlegend": true,
         "type": "scattergl",
         "x": {
          "bdata": "AAAAAM2SfUEAAAAAOnVdQQAAAAAAG+FAAAAAAKAgEkEAAAAAAAAAAAAAAAAAAAAAAAAAAAAAAAAAAAAAAAAAAAAAAIC39UhBAAAAAOCN7kAAAAAAgE/yQAAAAIAbDoBBAAAAAAAAAAAAAAAALkZpQQAAAADqZ0JBAAAAAGjVAUEAAAAAKOZOQQAAAICzUUJBAAAAAD7zQEEAAABAstNgQQAAAPD2grNBAAAAAANxMUEAAAAAAAAAAAAAAAAAAAAAAAAAAABq+EAAAAAAAAAAAAAAAADGqH1BAAAAYATFeEEAAAAAMEkvQQAAAACQBPtAAAAAABKvNkEAAAAAoPA5QQAAAABgDUBBAAAAPKzPkUEAAAAAgFvwQAAAAAAAAAAAAAAAAHD5HUEAAAAAgD0lQQAAAAAAavhAAAAAQPSqVUEAAAAAAB0AQQAAAAAAAAAAAAAAAF6uUUEAAACAvsdHQQAAAAAAAAAAAAAAoIyCxEEAAACATOVxQQAAAAAosVJBAAAAAPCzWkEAAAAAAAAAAAAAAACQWfZAAAAAAIBPAkEAAAAAgFXxQAAAAAAWbH5BAAAAAICEPkEAAAAAAAAAAAAAAACbblBBAAAAAAAAAAAAAACAgpxVQQAAAMCSoXhBAAAAAODIQEEAAAAgSg5qQQAAAACAW+ZAAAAAgA9NX0EAAAAA0BJDQQAAAADIDApBAAAAAEB3G0EAAADgM95pQQAAAABw4E1BAAAAAGCzHkEAAAAAAAAAAAAAAABA7ixBAAAAIEvye0EAAADgnzlyQQAAAAA021FBAAAAAAC8y0AAAAAAAAAAAAAAAADgOUNBAAAAAKKEOkEAAAAAAP/UQAAAAAC4IQhBAAAAAAAAAAAAAAAAAAAAAAAAAAAAAAAAAAAAABBkCkEAAAAAAAAAAAAAAACAhC5BAAAAAICELkEAAAAAAAAAAAAAAAAAAAAAAAAAAAAAAAAAAAAAhvI/QQAAAAAAAAAAAAAAgMh0fkEAAAAAFQp9QQAAAMC+zG1BAAAAAABk2UAAAADA+tNVQQAAAEBMA3FBAAAAAOPudEEAAAAA4P1MQQAAAKB27n9BAAAAAABM/UAAAAAAAAAAAAAAAAAAAAAAAAAAAADuw0AAAAAA+AVLQQAAAAAAAAAAAAAAAAAAAAAAAAAAEhRhQQAAAAAAAAAAAAAAAFxCK0EAAAAAgE8iQQAAAAAAAAAAAAAAgCnUUEEAAAAA0rhqQQAAAOBoZ3tB",
          "dtype": "f8"
         },
         "xaxis": "x",
         "y": {
          "bdata": "AAAAAACAQkAAAAAAAABNQAAAAAAAACBAAAAAAAAAAAAAAAAAAAAAAAAAAAAAAAAAAAAAAAAAAAAAAAAAAAAAAAAAAAAAACRAAAAAAAAAAAAAAAAAAAAAAAAAAAAAAAAAAAAAAAAAAAAAAAAAAAAAAAAAAAAAAF5AAAAAAAAAAAAAAAAAAAAAAAAAAAAAAAAAAAAAAAAAAAAAAAAAAAAAAAAAAAAAwGBAAAAAAAAAAAAAAAAAAAAAAAAAAAAAAAAAAAAAAAAAAAAAAAAAAAAAAAAAAAAAAAAAAAAAAAAAAAAAAAAAAAAAAAAAAAAAAAAAAAAAAAAAAAAAAAAAAAAAAAAAAAAAAAAAAAAAAAAAAAAAAAAAAAAAAAAAAAAAAAAAAAAAAAAAAAAAAAAAAAAAAAAAAAAAAAAAAAAAAACAREAAAAAAAAAAAAAAAAAAAAAAAAAAAAAAAAAAAAAAAAAAAAAAAAAAAAAAAAAAAAAANEAAAAAAAAAmQAAAAAAAAAAAAAAAAAAAAAAAAAAAAAAAAAAAAAAAAAAAAAAAAAAAAAAAAAAAAAAAAAAAAAAAwFtAAAAAAAAAAAAAAAAAAAAAAAAAAAAAAAAAAAAAAAAAAAAAAAAAAAAAAAAAAAAAQH9AAAAAAAAAAAAAAAAAAAAAAAAAAAAAAAAAAAAAAAAAAAAAAAAAAAAAAAAAAAAAAAAAAAAAAAAAAAAAAAAAAAAyQAAAAAAAAAAAAAAAAAAAAAAAAAAAAAAAAAAAAAAAAAAAAAAAAAAAAAAAAAAAAAAAAAAAAAAAQFNAAAAAAAAAAAAAAAAAAAAAAAAAAAAAADhAAAAAAAAAEEAAAAAAAAAAAAAAAAAAAAAAAAAAAAAAAAAAAAAAAAAAAAAAAAAAAAAAAAAAAAAAAEAAAAAAAAAAAAAAAAAAAAAAAAAAAAAAAAAAAAAAAAAAAAAAAAAAAAAAAAAAAAAAAAAAAAAAAAAAAAAAAAAAAAAAAAAAAMCN00AAAAAAAAAAAAAAAAAAAAAAAAAAAAAAAAAAAAAAAAAAAAAAAAAAAAAAAAAAAAAAAAAAAAAAAAAAAAAAAAAAAAAAAAAAAAAAAAAAAAAAAAAAAAAAAAAAAAAAAAAAAAAAAAAAAAAAAOCjQAAAAAAAAAAAAAAAAAAAAAAAAAAAAAAAAAAAAAAAwHpAAAAAAAAAAAAAAAAAAAAAAAAAAAAAAAAAAAAAAAAAAAAAAAAAAAAAAAAAAAAAAAAA",
          "dtype": "f8"
         },
         "yaxis": "y"
        },
        {
         "hovertemplate": "<b>%{hovertext}</b><br><br>Disaster Type=Earthquake<br>Affected=%{x}<br>Deaths=%{y}<br>Loss_USD_adj=%{marker.size}<extra></extra>",
         "hovertext": [
          "Afghanistan",
          "Albania",
          "Algeria",
          "American Samoa",
          "Argentina",
          "Azerbaijan",
          "Bangladesh",
          "Barbados",
          "Bhutan",
          "Bosnia and Herzegovina",
          "Brazil",
          "Bulgaria",
          "Burundi",
          "Chile",
          "China",
          "Colombia",
          "Comoros",
          "Costa Rica",
          "Croatia",
          "Cuba",
          "Democratic Republic of the Congo",
          "Dominica",
          "Dominican Republic",
          "Ecuador",
          "Egypt",
          "El Salvador",
          "Ethiopia",
          "France",
          "Georgia",
          "Germany",
          "Greece",
          "Guadeloupe",
          "Guatemala",
          "Haiti",
          "Honduras",
          "Hungary",
          "Iceland",
          "India",
          "Indonesia",
          "Iran (Islamic Republic of)",
          "Iraq",
          "Italy",
          "Japan",
          "Kazakhstan",
          "Kenya",
          "Kyrgyzstan",
          "Lao People's Democratic Republic",
          "Malawi",
          "Malaysia",
          "Maldives",
          "Martinique",
          "Mexico",
          "Morocco",
          "Mozambique",
          "Myanmar",
          "Nepal",
          "New Zealand",
          "Nicaragua",
          "North Macedonia",
          "Pakistan",
          "Panama",
          "Papua New Guinea",
          "Peru",
          "Philippines",
          "Puerto Rico",
          "Republic of Korea",
          "Russian Federation",
          "Rwanda",
          "Saint Lucia",
          "Samoa",
          "Serbia",
          "Serbia Montenegro",
          "Seychelles",
          "Slovenia",
          "Solomon Islands",
          "Somalia",
          "South Africa",
          "Spain",
          "Sri Lanka",
          "Syrian Arab Republic",
          "Taiwan (Province of China)",
          "Tajikistan",
          "Thailand",
          "Timor-Leste",
          "Tonga",
          "Turkmenistan",
          "Türkiye",
          "Uganda",
          "United Kingdom of Great Britain and Northern Ireland",
          "United Republic of Tanzania",
          "United States of America",
          "Uzbekistan",
          "Vanuatu"
         ],
         "legendgroup": "Earthquake",
         "marker": {
          "color": "#EF553B",
          "size": {
           "bdata": "AAAAAACI80AAAAA8FT7LQQAAAPcbw/9BAAAAAAAAAAAAAAAAAAAAAAAAAICCX3FBAAAAFEa/yEEAAAAAAAAAAAAAAAAAAAAAAAAAgPSTekEAAAAAAAAAAAAAAAAAAAAAAAAAAAAAAAAAACC8CMokQgAAwKSnSkJCAAAAABIIc0EAAAAAAAAAAAAAAHhQGLVBAADAsc1mDUIAAAAAAAAAAAAAAAD7c2NBAAAAAAAAAAAAAAAAAAAAAAAAADzNeeNBAAAAAAAAAAAAAACyJGboQQAAAAAAAAAAAAAAyG5Ou0EAAACsyjDCQQAAAIB6AXNBAAAA/PwtykEAAAAAAAAAAAAAAKB4RLFBAACAmwXuCEIAAABQMG6hQQAAAAAAAAAAAAAAgBrVnEEAAAAN95b+QQAAgJUdIxNCAACAwUlS80EAAAAAAAAAAAAAIHjKjCBCAAA81bnrW0IAAAAAAAAAAAAAAPA0zKNBAAAAAOJKbkEAAAAAwPcAQQAAAAAAAAAAAAAA8Eu/yEEAAAC0bUTHQQAAAAAAAAAAAABANk+zCEIAAAA4JlL9QQAAAAAAAAAAAAAAKH1VyUEAAABoreT5QQAAAHa+ciJCAAAAAKxTTkEAAAAA1u1oQQAAAAmowP9BAAAAAAAAAAAAAADgDyuSQQAAAHR8ctVBAAAACE7Et0EAAAA4YSjRQQAAAIDtLHpBAAAANH8TxkEAAAAAAAAAAAAAAAAAAAAAAAAAsOGepUEAAAAgda6mQQAAAAAAAAAAAAAAwOjBh0EAAAAAYK1vQQAAAADEi0RBAAAA8DTMo0EAAACABKN+QQAAADDUn7BBAAAAUDJK4EEAAID4BREBQgAAAODDB/NBAAAAAACChEEAAACSq/jZQQAAAADsMVRBAAAAALd+akEAAAAAAAAAAAAA4AVRFiJCAAAAAAAAAAAAAADAZ6SVQQAAAGT+1sFBAAAARPg19UEAAAAAAAAAAAAAAACE15dB",
           "dtype": "f8"
          },
          "sizemode": "area",
          "sizeref": 439819017.5,
          "symbol": "circle"
         },
         "mode": "markers",
         "name": "Earthquake",
         "showlegend": true,
         "type": "scattergl",
         "x": {
          "bdata": "AAAAAHSOMUEAAAAAOGMJQQAAAACYpgtBAAAAAACIo0AAAAAAANqjQAAAAABAMNlAAAAAAACmrUAAAAAAAADwPwAAAACADNRAAAAAAABwkEAAAAAAAOBxQAAAAAAACIdAAAAAAAAAXkAAAACAvxdOQQAAAIC5co5BAAAAAOAm70AAAAAAAIjDQAAAAAAwsP9AAAAAAOjfC0EAAAAAAHe3QAAAAACAzNJAAAAAAAAAWUAAAAAAAHyfQAAAAADmHSBBAAAAAABAb0AAAAAAvpI4QQAAAACAK/hAAAAAAACIl0AAAAAAgNfZQAAAAAAAwGJAAAAAAJCi9UAAAAAAACBjQAAAAADjZDZBAAAAAPvyUEEAAAAAYGbpQAAAAAAAIJxAAAAAAAAwrkAAAAAAsa9dQQAAAEAMi2lBAAAAAMDBOkEAAAAAAFG3QAAAAAAAFwFBAAAAAA4uN0EAAAAAoOrhQAAAAAAAAAAAAAAAAGCR4kAAAAAAAAAAAAAAAAAAQNRAAAAAAADRs0AAAAAAgJPaQAAAAAAAAFlAAAAAAKzMO0EAAAAABjgqQQAAAAAAEJdAAAAAAAdHNUEAAABAD5BXQQAAAAByyiJBAAAAAIBL00AAAAAAAABZQAAAAACyaltBAAAAAAAclkAAAAAA9qshQQAAAACCjDBBAAAAgN+VVkEAAAAAAGy0QAAAAAAgCeFAAAAAAEDt7kAAAAAAANyhQAAAAAAAAAAAAAAAAADQtUAAAAAAgGXaQAAAAAAAAFlAAAAAAADeskAAAAAAAOiCQAAAAABAONBAAAAAALCn+UAAAAAAABigQAAAAAAA4s1AAAAAAFQbL0EAAACAmpBeQQAAAAAA4LVAAAAAAAD16EAAAAAAEDf1QAAAAAAATJ9AAAAAAACwf0AAAAAAAAAAAAAAAOCKEnBBAAAAAABwgkAAAAAAAJWxQAAAAADgEwJBAAAAAABZ4UAAAAAAAIBVQAAAAABA1/NA",
          "dtype": "f8"
         },
         "xaxis": "x",
         "y": {
          "bdata": "AAAAAABqs0AAAAAAAIBJQAAAAAAA2qFAAAAAAAAAQUAAAAAAAAAAAAAAAAAAAD9AAAAAAAAAKkAAAAAAAAAAAAAAAAAAAChAAAAAAAAA8D8AAAAAAADwPwAAAAAAAAAAAAAAAAAACEAAAAAAACiDQAAAAAAAmvZAAAAAAAAALEAAAAAAAAAAAAAAAAAAgEVAAAAAAAAAIkAAAAAAAAAAAAAAAAAAADRAAAAAAAAAAAAAAAAAAAAIQAAAAAAAgIVAAAAAAAAAAAAAAAAAACSSQAAAAAAAAABAAAAAAAAAAAAAAAAAAAAYQAAAAAAAAAAAAAAAAAAAJkAAAAAAAADwPwAAAAAAQFFAAAAAAGB8C0EAAAAAAAAcQAAAAAAAAAAAAAAAAAAAAAAAAAAAAIXiQAAAAABoFQZBAAAAAIDt20AAAAAAAAAkQAAAAAAAYIVAAAAAAEAb1EAAAAAAAAAIQAAAAAAAAPA/AAAAAACAUkAAAAAAAAAAAAAAAAAAABBAAAAAAAAAWkAAAAAAAIBZQAAAAAAAAPA/AAAAAABYgEAAAAAAAOyrQAAAAAAAABBAAAAAAAAur0AAAAAAgNjBQAAAAAAAAGdAAAAAAAAAIkAAAAAAAAAAAAAAAADgLPJAAAAAAAAAAEAAAAAAACBqQAAAAAAAEIhAAAAAAACwfkAAAAAAAAAQQAAAAAAAAAAAAAAAAAAAMkAAAAAAAEBUQAAAAAAAAAAAAAAAAACAYkAAAAAAAAAAQAAAAAAAAPA/AAAAAAAACEAAAAAAAADwPwAAAAAAAE9AAAAAAACgckAAAAAAAAAIQAAAAAAAACRAAAAAAOBI4UAAAAAAACa2QAAAAAAAIG1AAAAAAAAAO0AAAAAAgGjAQAAAAAAAAAAAAAAAAAAAIkAAAAAAAAAmQAAAAACgbepAAAAAAAAAEEAAAAAAAAAAAAAAAAAAAEBAAAAAAAAAGEAAAAAAAAAqQAAAAAAAACxA",
          "dtype": "f8"
         },
         "yaxis": "y"
        },
        {
         "hovertemplate": "<b>%{hovertext}</b><br><br>Disaster Type=Epidemic<br>Affected=%{x}<br>Deaths=%{y}<br>Loss_USD_adj=%{marker.size}<extra></extra>",
         "hovertext": [
          "Afghanistan",
          "Albania",
          "Algeria",
          "Angola",
          "Argentina",
          "Australia",
          "Bangladesh",
          "Benin",
          "Bolivia (Plurinational State of)",
          "Bosnia and Herzegovina",
          "Botswana",
          "Brazil",
          "Burkina Faso",
          "Burundi",
          "Cabo Verde",
          "Cambodia",
          "Cameroon",
          "Canada",
          "Central African Republic",
          "Chad",
          "China",
          "Colombia",
          "Comoros",
          "Congo",
          "Cook Islands",
          "Costa Rica",
          "Côte d’Ivoire",
          "Democratic People's Republic of Korea",
          "Democratic Republic of the Congo",
          "Djibouti",
          "Dominican Republic",
          "Ecuador",
          "Egypt",
          "El Salvador",
          "Equatorial Guinea",
          "Eswatini",
          "Ethiopia",
          "Fiji",
          "Gabon",
          "Gambia",
          "Germany",
          "Ghana",
          "Guadeloupe",
          "Guatemala",
          "Guinea",
          "Guinea-Bissau",
          "Haiti",
          "Honduras",
          "India",
          "Indonesia",
          "Iran (Islamic Republic of)",
          "Iraq",
          "Ireland",
          "Israel",
          "Italy",
          "Jamaica",
          "Kazakhstan",
          "Kenya",
          "Kyrgyzstan",
          "Lao People's Democratic Republic",
          "Latvia",
          "Lebanon",
          "Lesotho",
          "Liberia",
          "Madagascar",
          "Malawi",
          "Malaysia",
          "Maldives",
          "Mali",
          "Marshall Islands",
          "Martinique",
          "Mauritania",
          "Mauritius",
          "Mexico",
          "Micronesia (Federated States of)",
          "Mongolia",
          "Mozambique",
          "Myanmar",
          "Namibia",
          "Nepal",
          "New Caledonia",
          "Nicaragua",
          "Niger",
          "Nigeria",
          "North Macedonia",
          "Pakistan",
          "Palau",
          "Panama",
          "Papua New Guinea",
          "Paraguay",
          "Peru",
          "Philippines",
          "Republic of Korea",
          "Russian Federation",
          "Rwanda",
          "Réunion",
          "Saint Lucia",
          "Saint Vincent and the Grenadines",
          "Samoa",
          "Sao Tome and Principe",
          "Saudi Arabia",
          "Senegal",
          "Serbia Montenegro",
          "Seychelles",
          "Sierra Leone",
          "Singapore",
          "Solomon Islands",
          "Somalia",
          "South Africa",
          "South Sudan",
          "Spain",
          "Sri Lanka",
          "Sudan",
          "Sweden",
          "Syrian Arab Republic",
          "Tajikistan",
          "Thailand",
          "Timor-Leste",
          "Togo",
          "Tonga",
          "Türkiye",
          "Uganda",
          "United Kingdom of Great Britain and Northern Ireland",
          "United Republic of Tanzania",
          "United States of America",
          "Vanuatu",
          "Venezuela (Bolivarian Republic of)",
          "Viet Nam",
          "Yemen",
          "Zambia",
          "Zimbabwe"
         ],
         "legendgroup": "Epidemic",
         "marker": {
          "color": "#00cc96",
          "size": {
           "bdata": "AAAAAAAAAAAAAAAAAAAAAAAAAAAAAAAAAAAAAAAAAAAAAAAAAAAAAAAAAAAAAAAAAAAAAAAAAAAAAAAAAAAAAAAAAAAAAAAAAAAAAAAAAAAAAAAAAAAAAAAAAAAAAAAAAAAAAAAAAAAAAAAAAAAAAAAAAAAAAAAAAAAAAAAAAAAAAAAAAAAAAAAAAAAAAAAAAAAAAAAAAAAAAAAAAAAAAAAAAAAAAAAAAAAAAAAAAAAAAAAAAAAAAAAAAAAAAAAAAAAAAAAAAAAAAAAAAAAAAAAAAAAAAAAAAAAAAAAAAAAAAAAAAAAAAAAAAAAAAAAAAAAAAAAAAAAAAAAAAAAAAAAAAAAAAAAAAAAAAAAAAAAAAAAAAAAAAAAAAAAAAAAAAAAAAAAAAAAAAAAAAAAAAAAAAAAAAAAAAAAAAAAAAAAAAAAAAAAAAAAAAAAAAAAAAAAAAAAAAAAAAAAAAAAAAAAAAAAAAAAAAAAAAAAAAAAAAAAAAAAAAAAAAAAAAAAAAAAAAAAAAAAAAAAAAAAAAAAAAAAAAAAAAAAAAAAAAAAAAAAAAAAAAAAAAAAAAAAAAAAAAAAAAAAAAAAAAAAAAAAAAAAAAAAAAAAAAAAAAAAAAAAAAAAAAAAAAAAAAAAAAAAAAAAAAAAAAAAAAAAAAAAAAAAAAAAAAAAAAAAAAAAAAAAAAAAAAAAAAAAAAAAAAAAAAAAAAAAAAAAAAAAAAAAAAAAAAAAAAAAAAAAAAAAAAAAAAAAAAAAAAAAAAAAAAAAAAAAAAAAAAAAAAAAAAAAAAAAAAAAAAAAAAAAAAAAAAAAAAAAAAAAAAAAAAAAAAAAAAAAAAAAAAAAAAAAAAAAAAAAAAAAAAAAAAAAAAAAAAAAAAAAAAAAAAAAAAAAAAAAAAAAAAAAAAAAAAAAAAAAAAAAAAAAAAAAAAAAAAAAAAAAAAAAAAAAAAAAAAAAAAAAAAAAAAAAAAAAAAAAAAAAAAAAAAAAAAAAAAAAAAAAAAAAAAAAAAAAAAAAAAAAAAAAAAAAAAAAAAAAAAAAAAAAAAAAAAAAAAAAAAAAAAAAAAAAAAAAAAAAAAAAAAAAAAAAAAAAAAAAAAAAAAAAAAAAAAAAAAAAAAAAAAAAAAAAAAAAAAAAAAAAAAAAAAAAAAAAAAAAAAAAAAAAAAAAAAAAAAAAAAAAAAAAAAAAAAAAAAAAAAAAAAAAAAAAAAAAAAAAAAAAAAAAAAAAAAAAAAAAAAAAAAAAAAAAAAAAAAAAAAAAAAAAAAAAAAAAAAAAAAAAAAAAAAAAAAAAAAAAAAAAAAAAAAAAAAAAAAAAAAAAAAAAAAAAAAAAAAAAAAAAAAAAAAAAAAAAAAAAAAAAAAAAAAAAAAAAAAAAAAAAAAAAAAAAAAAAAAA==",
           "dtype": "f8"
          },
          "sizemode": "area",
          "sizeref": 439819017.5,
          "symbol": "circle"
         },
         "mode": "markers",
         "name": "Epidemic",
         "showlegend": true,
         "type": "scattergl",
         "x": {
          "bdata": "AAAAANCiD0EAAAAAAEBsQAAAAAAAWIRAAAAAACD5+0AAAAAAABvKQAAAAAAAgJ9AAAAAADwWFkEAAAAAgCbVQAAAAADApeBAAAAAAADKoEAAAAAAwMHVQAAAAADypTdBAAAAAGhKAEEAAAAAGIEmQQAAAABAlddAAAAAAADe1EAAAAAAgLTnQAAAAAAA0IBAAAAAAAAuwkAAAAAAwDDrQAAAAAAAyJxAAAAAAJBn+UAAAAAAAJHLQAAAAAAg8RJBAAAAAAB8k0AAAAAAwIXeQAAAAAAAYbVAAAAAAGCi/0AAAAAAdn0sQQAAAAAAqI5AAAAAAAAo70AAAAAAcCv7QAAAAAAAAF5AAAAAAEAi9UAAAAAAABCOQAAAAAAApJZAAAAAAFCr9kAAAAAAAAAsQAAAAABAINJAAAAAAAAAXUAAAAAAAMCCQAAAAABgs/JAAAAAAAAd4EAAAAAAgOXYQAAAAAAAbc9AAAAAAEAy40AAAAAAfvQhQQAAAAAoJQJBAAAAALDjC0EAAAAA0IP3QAAAAAAAAAAAAAAAAABy2EAAAAAAAHiVQAAAAAAAYGFAAAAAAICGw0AAAAAAAIBxQAAAAAAAgFxAAAAAAFpGNUEAAAAAgA7IQAAAAACgTuZAAAAAAACAWUAAAAAAABiJQAAAAAAAqJxAAAAAAGAa4kAAAAAAAG/+QAAAAADw0/1AAAAAAJBN/kAAAAAAAECbQAAAAAAAp7BAAAAAAABAa0AAAAAAAITcQAAAAAAAMqRAAAAAAADyo0AAAAAA4FrkQAAAAAAAzqpAAAAAAACeqEAAAAAA0PsBQQAAAAAAAAAAAAAAAAC7yUAAAAAAAFz3QAAAAAAAUHtAAAAAAMD990AAAAAAcGX6QAAAAAAIkhlBAAAAAAAAaUAAAAAAgITvQAAAAAAAAF9AAAAAAIC23EAAAAAAgHzFQAAAAAAojA1BAAAAAHB8BUEAAAAArAUVQQAAAACAZONAAAAAAAD8pkAAAAAAAFSaQAAAAABAKgNBAAAAAACYlEAAAAAAAICbQAAAAAAA8bVAAAAAAADQo0AAAAAAANiBQAAAAACAQtpAAAAAAABAZUAAAAAAAFK2QAAAAACgVuNAAAAAAIBwzUAAAAAAgHnTQAAAAABA/vNAAAAAABBw+0AAAAAAAMfkQAAAAAAAeIdAAAAAANChDkEAAAAA+LQCQQAAAAAA4HVAAAAAAAAUp0AAAAAAAISQQAAAAADAzeNAAAAAAAB4nUAAAAAAAKmwQAAAAAAAUH9AAAAAAADAa0AAAAAAILoNQQAAAAAAAD5AAAAAADBH+EAAAAAAAFCsQAAAAAAA8HVAAAAAAACAXUAAAAAA8FvzQAAAAACwsiVBAAAAAGBC6UAAAAAAsIUBQQ==",
          "dtype": "f8"
         },
         "xaxis": "x",
         "y": {
          "bdata": "AAAAAADurEAAAAAAAAAAAAAAAAAAAFFAAAAAAABlskAAAAAAAAAYQAAAAAAAAAAAAAAAAAAweEAAAAAAAGCLQAAAAAAAAFRAAAAAAAAAAAAAAAAAAIB9QAAAAAAAUINAAAAAAADnwEAAAAAAAOB5QAAAAAAAACBAAAAAAADAZkAAAAAAACydQAAAAAAAAAhAAAAAAAB4jEAAAAAAAKClQAAAAAAAAE1AAAAAAABAcEAAAAAAAEBmQAAAAAAAabFAAAAAAAAAAAAAAAAAAAAIQAAAAAAA8HpAAAAAAAAAEEAAAAAAgLPKQAAAAAAAACRAAAAAAABQdkAAAAAAAAA3QAAAAAAAAAAAAAAAAADgdUAAAAAAAAA5QAAAAAAAAEBAAAAAAADYnUAAAAAAAAAAAAAAAAAAgElAAAAAAAAANUAAAAAAAAAAAAAAAAAAAINAAAAAAAAAAAAAAAAAAAA6QAAAAAAAtKlAAAAAAAB4g0AAAAAAAP+9QAAAAAAAoG1AAAAAAAB0mkAAAAAAADyRQAAAAAAAAFNAAAAAAACAQUAAAAAAAAAAQAAAAAAAAChAAAAAAAAACEAAAAAAAAAIQAAAAAAAAAAAAAAAAACUkEAAAAAAAAAAAAAAAAAAQF5AAAAAAAAAAAAAAAAAAAAmQAAAAAAAADxAAAAAAAA7s0AAAAAAAJiPQAAAAAAApqpAAAAAAAAAZEAAAAAAAAAQQAAAAAAAMHJAAAAAAAAAGEAAAAAAAAAqQAAAAAAAgEtAAAAAAAAAAAAAAAAAAAAAAAAAAAAAADNAAAAAAAAAAAAAAAAAAFCNQAAAAAAAAFBAAAAAAADgZ0AAAAAAAOCHQAAAAAAAAAAAAAAAAAAARUAAAAAAANikQAAAAAAA5cpAAAAAAAAAAAAAAAAAALBxQAAAAAAAAAAAAAAAAAAANkAAAAAAAOB0QAAAAAAAQFhAAAAAAABAbEAAAAAAADChQAAAAAAAAEVAAAAAAAAAAAAAAAAAACBiQAAAAAAAAAAAAAAAAAAACEAAAAAAAAAgQAAAAAAAwFRAAAAAAAAAOUAAAAAAAABlQAAAAAAAcHVAAAAAAAAAAAAAAAAAAAAAAAAAAAAAvrFAAAAAAAAAAEAAAAAAAAA3QAAAAAAAXKdAAAAAAADwdEAAAAAAAKCIQAAAAAAAAABAAAAAAAC4jUAAAAAAAJK0QAAAAAAAAAAAAAAAAADAVUAAAAAAAAA1QAAAAAAAQF9AAAAAAAAARkAAAAAAADB9QAAAAAAAAAAAAAAAAAAANEAAAAAAABiQQAAAAAAAACZAAAAAAAAYi0AAAAAAAMBqQAAAAAAAAAAAAAAAAAAAAAAAAAAAAEBVQAAAAAAAdJpAAAAAAAA0l0AAAAAAAHG4QA==",
          "dtype": "f8"
         },
         "yaxis": "y"
        },
        {
         "hovertemplate": "<b>%{hovertext}</b><br><br>Disaster Type=Extreme temperature<br>Affected=%{x}<br>Deaths=%{y}<br>Loss_USD_adj=%{marker.size}<extra></extra>",
         "hovertext": [
          "Afghanistan",
          "Albania",
          "Algeria",
          "Argentina",
          "Armenia",
          "Australia",
          "Austria",
          "Azerbaijan",
          "Bangladesh",
          "Belarus",
          "Belgium",
          "Bolivia (Plurinational State of)",
          "Bosnia and Herzegovina",
          "Brazil",
          "Bulgaria",
          "Cambodia",
          "Canada",
          "Canary Islands",
          "Chile",
          "China",
          "Croatia",
          "Cyprus",
          "Czechia",
          "Democratic People's Republic of Korea",
          "Denmark",
          "Egypt",
          "El Salvador",
          "Estonia",
          "Finland",
          "France",
          "Germany",
          "Greece",
          "Guatemala",
          "Hungary",
          "Iceland",
          "India",
          "Ireland",
          "Israel",
          "Italy",
          "Japan",
          "Jordan",
          "Kazakhstan",
          "Kyrgyzstan",
          "Lao People's Democratic Republic",
          "Latvia",
          "Lebanon",
          "Liechtenstein",
          "Lithuania",
          "Luxembourg",
          "Malta",
          "Mexico",
          "Mongolia",
          "Montenegro",
          "Morocco",
          "Myanmar",
          "Nepal",
          "Netherlands (Kingdom of the)",
          "New Zealand",
          "Nigeria",
          "North Macedonia",
          "Norway",
          "Pakistan",
          "Paraguay",
          "Peru",
          "Philippines",
          "Poland",
          "Portugal",
          "Republic of Korea",
          "Republic of Moldova",
          "Romania",
          "Russian Federation",
          "Saudi Arabia",
          "Serbia",
          "Serbia Montenegro",
          "Slovakia",
          "Slovenia",
          "South Africa",
          "Spain",
          "State of Palestine",
          "Sudan",
          "Sweden",
          "Switzerland",
          "Taiwan (Province of China)",
          "Tajikistan",
          "Thailand",
          "Türkiye",
          "Ukraine",
          "United Kingdom of Great Britain and Northern Ireland",
          "United States of America",
          "Uruguay",
          "Viet Nam"
         ],
         "legendgroup": "Extreme temperature",
         "marker": {
          "color": "#ab63fa",
          "size": {
           "bdata": "AAAAAACU0UAAAAAAAAAAAAAAAAAAAAAAAAAAAAAAAAAAAAAAAAAAAAAAAAAAAAAAAAAACHp1vEEAAAAAAAAAAAAAAAAAAAAAAAAAAMtRikEAAAAAAAAAAAAAAAAAAAAAAAAAAAAAAAAAAAAAAAAAAAAAAACAN/ZAAAAAAAAAAAAAAAAoTy26QQAAAAAAAAAAAAAAOi5W1EEAAKCOD/geQgAAAMgYD7pBAAAAAAAAAAAAAAAAAAAAAAAAAAAAAAAAAAAAAAAAAAAAAAAAAAAAAAAAAAAAAAAAAAAAAAAAAAAAAAAAAAAAAAAAgK/0DApCAAAAg6SN6EEAAAAA6thUQQAAAAAAAAAAAAAAAAAAAAAAAAAAAAAAAAAAACzpU8RBAAAAAAAAAAAAAAAAAAAAAAAAAFMnoPxBAAAAAAAAAAAAAAAAAAAAAAAAAAAAAAAAAAAAAAAAAAAAAAAAAAAAAAAAAAAAAAAAAAAAAAAAAAAAAAAAAAAAAAAAAAAAAAAAAAAAAAAAAAAAAAAAAAAAAAAAADzJx8RBAAAAwBSdlUEAAAAAAAAAAAAAAADQfTZBAAAAAAAAAAAAAAAAAP8EQQAAAKDqJaNBAAAAyHIetUEAAAAAAAAAAAAAAAAAAAAAAAAAAAAAAAAAAACA/752QQAAAAAAAAAAAAAAAEOpnUEAAAAAAAAAAAAAAAAAAAAAAAAAAAAAAAAAAAAQlcmjQQAAAAAAAAAAAAAAAAAAAAAAAAAIq8PfQQAAAAAAAAAAAAAAAAAAAAAAAAAAAAAAAAAAALDgfa5BAAAA0B1DoEEAAAAAAAAAAAAAAOZMXNZBAAAAAAAAAAAAAAAAAAAAAAAAAAAAAAAAAAAACHp1vEEAAACAMTSQQQAAAPKgPNJBAAAAAAAAAAAAAAAAMM07QQAAAFBfdaJBAAAAAAAAAAAAAAB64s/0QQAAAAAAAAAAAAAAAAAAAAA=",
           "dtype": "f8"
          },
          "sizemode": "area",
          "sizeref": 439819017.5,
          "symbol": "circle"
         },
         "mode": "markers",
         "name": "Extreme temperature",
         "showlegend": true,
         "type": "scattergl",
         "x": {
          "bdata": "AAAAAHxOJUEAAAAAMBgMQQAAAABIhQ5BAAAAAABYq0AAAAAAAHDHQAAAAAAAQJ9AAAAAAAAAAAAAAAAAAAAAAAAAAMCP1n9BAAAAACBF90AAAAAAAAAAAAAAAADg4eRAAAAAAMDe00AAAAAAAAAAAAAAAAAAgFFAAAAAAAAAAAAAAAAAAAAAAAAAAAAAQFxAAAAAACC46EAAAAA4NVWTQQAAAAAAAGlAAAAAAAAAeUAAAAAAAAAAAAAAAAAA5MpAAAAAAAAAAAAAAAAAAGBlQAAAAAAAAAAAAAAAAAAAAAAAAAAAAAAAAAAAAAAAAGlAAAAAAACgZEAAAAAAAABmQAAAAAAArchAAAAAAABAf0AAAAAAAAAAAAAAAACArNlAAAAAAAAAAAAAAAAAAAAAAAAAAAAAAAAAAAAAANCzDkEAAAAAAHCfQAAAAAAAlLNAAAAAAAAmy0AAAAAAAAAAAAAAAAAAAAAAAAAAAPCCTkEAAAAAAAAAAAAAAAAAAAAAAAAAAAAAAAAAAAAAAAAAAAAAAABw7P1AAAAAgAG5QEEAAAAAAJSxQAAAAADe5kJBAAAAAAC4mEAAAAAAAJzYQAAAAAAAAAAAAAAAAAAAAAAAAAAAAAAAAAAAAAAA4c9AAAAAAAAAAAAAAAAAUIr1QAAAAAAAAAAAAAAAAJiPVEEAAAAAAABBQAAAAAAAAAAAAAAAAAAAAAAAAAAAANqmQAAAAAAAEclAAAAAAIBTwEAAAAAAIEXgQAAAAAAAmKVAAAAAAGBl9kAAAAAAAIBRQAAAAAAAQFZAAAAAAABq6EAAAAAAAAA0QAAAAAAAAAAAAAAAAIBb4EAAAAAAAAAAAAAAAAAAAAAAAAAAAAAAAAAAAAAAAAAAAAAAAABEjj5BAAAAAICELkEAAAAAACB8QAAAAABQBQJBAAAAAACAR0AAAAAAAABMQAAAAAAAwKJAAAAAAAAAAAA=",
          "dtype": "f8"
         },
         "xaxis": "x",
         "y": {
          "bdata": "AAAAAAACqEAAAAAAAMiGQAAAAAAAAEhAAAAAAABAVUAAAAAAAAAAAAAAAAAAYH5AAAAAAAC8k0AAAAAAAAAUQAAAAAAAbJhAAAAAAAAAS0AAAAAAADy2QAAAAAAAADxAAAAAAAAAFEAAAAAAAABAQAAAAAAAmKdAAAAAAAAAAAAAAAAAAAiMQAAAAAAAACpAAAAAAAAAGEAAAAAAAMBtQAAAAAAAqKBAAAAAAABQcEAAAAAAAICRQAAAAAAAAAAAAAAAAACQe0AAAAAAAEBcQAAAAAAAAPA/AAAAAACQcUAAAAAAALB2QAAAAADAIeFAAAAAAMBh10AAAAAAADe9QAAAAAAAABhAAAAAAADAmUAAAAAAAAAAAAAAAAAAT8RAAAAAAACAVUAAAAAAAAAAAAAAAACA3OhAAAAAAACMk0AAAAAAAAAAAAAAAAAAAAhAAAAAAAAAO0AAAAAAAAAAAAAAAAAAIG9AAAAAAAAAAAAAAAAAAADwPwAAAAAAgIVAAAAAAADgbkAAAAAAAEBiQAAAAAAAoHNAAAAAAAAAHEAAAAAAAABXQAAAAAAAADVAAAAAAABgc0AAAAAAALBwQAAAAAAA7qxAAAAAAAAAAAAAAAAAAABOQAAAAAAAAEFAAAAAAACATUAAAAAAANKkQAAAAAAAADRAAAAAAADonkAAAAAAAAAAAAAAAAAA+KhAAAAAAAC7ukAAAAAAAAA+QAAAAAAAADdAAAAAAABjtUAAAAAAwADsQAAAAAAAVJRAAAAAAADAkEAAAAAAAAAYQAAAAAAAIIdAAAAAAADYgEAAAAAAAIBAQAAAAAAgAuFAAAAAAAAAHEAAAAAAAAAwQAAAAAAAgEpAAAAAAAC4mUAAAAAAAEBVQAAAAAAAAPA/AAAAAABAYUAAAAAAAIBRQAAAAAAAOJFAAAAAAIBjw0AAAAAAAJycQAAAAAAAACZAAAAAAAAAAAA=",
          "dtype": "f8"
         },
         "yaxis": "y"
        },
        {
         "hovertemplate": "<b>%{hovertext}</b><br><br>Disaster Type=Flood<br>Affected=%{x}<br>Deaths=%{y}<br>Loss_USD_adj=%{marker.size}<extra></extra>",
         "hovertext": [
          "Afghanistan",
          "Albania",
          "Algeria",
          "American Samoa",
          "Angola",
          "Argentina",
          "Armenia",
          "Australia",
          "Austria",
          "Azerbaijan",
          "Bahamas",
          "Bangladesh",
          "Belarus",
          "Belgium",
          "Belize",
          "Benin",
          "Bhutan",
          "Bolivia (Plurinational State of)",
          "Bosnia and Herzegovina",
          "Botswana",
          "Brazil",
          "Bulgaria",
          "Burkina Faso",
          "Burundi",
          "Cabo Verde",
          "Cambodia",
          "Cameroon",
          "Canada",
          "Canary Islands",
          "Central African Republic",
          "Chad",
          "Chile",
          "China",
          "China, Hong Kong Special Administrative Region",
          "Colombia",
          "Comoros",
          "Congo",
          "Costa Rica",
          "Croatia",
          "Cuba",
          "Cyprus",
          "Czechia",
          "Côte d’Ivoire",
          "Democratic People's Republic of Korea",
          "Democratic Republic of the Congo",
          "Djibouti",
          "Dominican Republic",
          "Ecuador",
          "Egypt",
          "El Salvador",
          "Eritrea",
          "Eswatini",
          "Ethiopia",
          "Fiji",
          "Finland",
          "France",
          "French Guiana",
          "French Polynesia",
          "Gabon",
          "Gambia",
          "Georgia",
          "Germany",
          "Ghana",
          "Greece",
          "Guatemala",
          "Guinea",
          "Guinea-Bissau",
          "Guyana",
          "Haiti",
          "Honduras",
          "Hungary",
          "India",
          "Indonesia",
          "Iran (Islamic Republic of)",
          "Iraq",
          "Ireland",
          "Israel",
          "Italy",
          "Jamaica",
          "Japan",
          "Jordan",
          "Kazakhstan",
          "Kenya",
          "Kiribati",
          "Kuwait",
          "Kyrgyzstan",
          "Lao People's Democratic Republic",
          "Latvia",
          "Lebanon",
          "Lesotho",
          "Liberia",
          "Libya",
          "Lithuania",
          "Luxembourg",
          "Madagascar",
          "Malawi",
          "Malaysia",
          "Maldives",
          "Mali",
          "Marshall Islands",
          "Mauritania",
          "Mauritius",
          "Mexico",
          "Micronesia (Federated States of)",
          "Mongolia",
          "Montenegro",
          "Morocco",
          "Mozambique",
          "Myanmar",
          "Namibia",
          "Nepal",
          "Netherlands (Kingdom of the)",
          "New Zealand",
          "Nicaragua",
          "Niger",
          "Nigeria",
          "North Macedonia",
          "Norway",
          "Oman",
          "Pakistan",
          "Panama",
          "Papua New Guinea",
          "Paraguay",
          "Peru",
          "Philippines",
          "Poland",
          "Portugal",
          "Puerto Rico",
          "Qatar",
          "Republic of Korea",
          "Republic of Moldova",
          "Romania",
          "Russian Federation",
          "Rwanda",
          "Saint Lucia",
          "Saint Vincent and the Grenadines",
          "Samoa",
          "Sao Tome and Principe",
          "Saudi Arabia",
          "Senegal",
          "Serbia",
          "Serbia Montenegro",
          "Seychelles",
          "Sierra Leone",
          "Slovakia",
          "Slovenia",
          "Solomon Islands",
          "Somalia",
          "South Africa",
          "South Sudan",
          "Spain",
          "Sri Lanka",
          "State of Palestine",
          "Sudan",
          "Suriname",
          "Sweden",
          "Switzerland",
          "Syrian Arab Republic",
          "Taiwan (Province of China)",
          "Tajikistan",
          "Thailand",
          "Timor-Leste",
          "Togo",
          "Trinidad and Tobago",
          "Tunisia",
          "Türkiye",
          "Uganda",
          "Ukraine",
          "United Arab Emirates",
          "United Kingdom of Great Britain and Northern Ireland",
          "United Republic of Tanzania",
          "United States of America",
          "Uruguay",
          "Uzbekistan",
          "Vanuatu",
          "Venezuela (Bolivarian Republic of)",
          "Viet Nam",
          "Yemen",
          "Zambia",
          "Zimbabwe"
         ],
         "legendgroup": "Flood",
         "marker": {
          "color": "#FFA15A",
          "size": {
           "bdata": "AAAAAN2tf0EAAAAA4R6EQQAAAMzgb+BBAAAAIOtTlEEAAAAARNBzQQAAgItmfvlBAAAAAITXh0EAAPAFzBkgQgAAAGzi4vlBAAAA4E1clkEAAADA2eSMQQAAAGzmgvtBAAAAAAAAAAAAAABFic3jQQAAAABw8mpBAAAAAAAAAAAAAAAAAAAAAAAAAObBk9RBAAAAtLVExUEAAAAARF9hQQAAwL/6uhBCAAAAWG6P00EAAABgEBGvQQAAAIBp73JBAAAAAAAAAAAAAAB63CnbQQAAAICH8HFBAABAi6gzDEIAAAAw3VmxQQAAAIAMSaFBAAAA+NuRt0EAAICwLMLyQQAAkNOp3FBCAAAAAAAAAAAAAAB8ckDyQQAAAADmDlpBAAAAAAAAAAAAAABQeD6nQQAAAMBKcJtBAAAAgDyOeUEAAAAAAAAAAAAAAOJ/HfdBAAAAAAAAAAAAAAD0mcjCQQAAAID3xXxBAAAAAAAAAAAAAAAAGH6kQQAAAEoR3ttBAAAA4ED2lUEAAAA8ycfUQQAAAAAAAAAAAAAAAIA39kAAAAAAHhJxQQAAAECuzKxBAAAAAAAAAAAAAMBQ0psMQgAAAAAAAAAAAAAAAAyGQ0EAAAAAAAAAAAAAAAAAAAAAAAAAAFItgkEAABBxCEg1QgAAAADiSm5BAAAAWm8C0UEAAAD4+S2yQQAAAAAAAAAAAAAAAAAAAAAAAAAkCBrOQQAAABA3CLpBAAAAAFGPqkEAAABMjfjJQQAAcBs76jdCAABAY60PA0IAAIAahZn+QQAAACAwn6BBAAAAyLkDu0EAAAC4U/PEQQAA4IMrPx1CAAAAwLChgEEAAOCStlkjQgAAAAAAAAAAAAAAEEkjtUEAAABgnu7CQQAAAAAAAAAAAAAAAAAAAAAAAAAAwHRRQQAAALBUcaZBAAAAAAAAAAAAAAAAAAAAAAAAAAAAAAAAAAAAAAAAAAAAAAAA6J1gQQAAAAAAAAAAAAAAAAAAAAAAAACw4H2uQQAAAGDmlL9BAAAAw6oR7EEAAAAAAAAAAAAAAIBmq6NBAAAAAAAAAAAAAAAAxItEQQAAAADEi0RBAACAaYFl8UEAAAAAAAAAAAAAAAB0RURBAAAAAAAAAAAAAADoFIK3QQAAAOqg4dBBAAAAAH9eo0EAAAAACY98QQAAAMbbw9dBAAAAAAAAAAAAAABnaWHpQQAAAACAPfVAAAAAFA6fwUEAAADfaUb2QQAAAICsOqZBAAAAAAAAAAAAAAAAAAAAAAAAAGFEryRCAAAAgH9QfkEAAABADZeBQQAAAADQa1lBAAAAMI2W8EEAAAB12wvsQQAAgPmmq/VBAAAAnm3w3EEAAAAQw4CwQQAAAACc02dBAAAA4uGt30EAAAAAk4RqQQAAAD5Qp+9BAACAbffe80EAAADATTeKQQAAAAAAAAAAAAAAcFtZokEAAAAAdEVEQQAAAAAAAAAAAAAA9Pvh2UEAAAAAWH+ZQQAAALmvcuVBAAAAAAAAAAAAAAAAAAAAAAAAAAAAAAAAAAAAgGq2iEEAAAAYMzrLQQAAAICxcoBBAAAAQK/Vl0EAAICrErH1QQAAAAAAAAAAAABAMVc3DkIAAADDJzbmQQAAAAAAAAAAAAAAsIdO0EEAAACAXHd1QQAAAIALUpNBAAAAN7sT7UEAAAAAAAAAAAAAAID6ObRBAAAAEPm4ukEAAICIDposQgAAAIA2HndBAAAAAAAAAAAAAAAArKFRQQAAAAC/cYVBAAAAFzwB4EEAAAAA9MpdQQAAAOyL5tlBAAAAAAAAAAAAAODykykfQgAAAADIN0RBAACwT1PnNUIAAABApyqRQQAAAAAAAAAAAAAAAAAAAAAAAABYnde+QQAAAAHNjPNBAAAAnD8XwkEAAAAAAAAAAAAAAOjyM75B",
           "dtype": "f8"
          },
          "sizemode": "area",
          "sizeref": 439819017.5,
          "symbol": "circle"
         },
         "mode": "markers",
         "name": "Flood",
         "showlegend": true,
         "type": "scattergl",
         "x": {
          "bdata": "AAAAANmkNEEAAAAA0N8DQQAAAACg4A5BAAAAAAAACEAAAAAATqc0QQAAAAAnY0BBAAAAAADQekAAAAAABPIfQQAAAACA9+5AAAAAAEAA+kAAAAAAAECPQAAAAJgqEZtBAAAAAICe6EAAAAAAoG36QAAAAAAAUuxAAAAAADXNNEEAAAAAAECPQAAAAICSKFpBAAAAACx6OEEAAAAAgIwEQQAAAKAHKmdBAAAAAPDK9kAAAAAAst0kQQAAAAAobx1BAAAAAICP2EAAAACAwAllQQAAAACvrjFBAAAAACiCCEEAAAAAAGCIQAAAAAAESxBBAAAAgJ4dUUEAAAAAKictQQAAAB9kHcxBAAAAAADAXUAAAADAwRFkQQAAAABQg/BAAAAAgDiAQkEAAAAA7Rw7QQAAAABAOtNAAAAAADDU+kAAAAAAAFB9QAAAAABRUDdBAAAAAGBX80AAAACAZG5PQQAAAACRJk5BAAAAAIATHEEAAAAAWV5JQQAAAACWTylBAAAAAEBH3kAAAAAArDUTQQAAAAAAZbtAAAAAAFDHEEEAAADARsxVQQAAAABAFN9AAAAAAAAAeUAAAAAAELQAQQAAAAAAYGFAAAAAAACMs0AAAAAA0Eb2QAAAAADgHPdAAAAAALjGH0EAAAAA2p8sQQAAAADarD5BAAAAAAAb3UAAAACgSUlhQQAAAABQgCdBAAAAAMCV7EAAAAAAEL8jQQAAAACHQDFBAAAAANicL0EAAAAAoGj6QAAAAHkJWbZBAAAAIA8ZYUEAAAAApAloQQAAAADgDAtBAAAAAAA2wEAAAAAAAAAAAAAAAACYZgJBAAAAAABM3UAAAACA/w9CQQAAAAAAAFBAAAAAAMzBEEEAAABAuDVTQQAAAAAAEHNAAAAAAAAAAAAAAAAAAJ39QAAAAACZG0lBAAAAAAAAaUAAAAAAAJrQQAAAAAAAiLNAAAAAABBg+EAAAAAAQMXYQAAAAAAAAAAAAAAAAAAAAAAAAAAAzCoTQQAAAIDEokpBAAAAAN2DMkEAAAAAAPKqQAAAAAAObSZBAAAAAAAAjkAAAAAAOCQNQQAAAAAAgFRAAAAAAI44S0EAAAAAAAAAAAAAAAD0jRVBAAAAAACswEAAAAAAMK8AQQAAAEB1nlxBAAAAAP1pS0EAAAAAh94wQQAAAADlE1pBAAAAAAAAAAAAAAAAAB/TQAAAAADAehlBAAAAgD8XU0EAAADAP9BuQQAAAAAA7g5BAAAAAADgpUAAAAAAAGyaQAAAALDuY5NBAAAAAJBCBUEAAAAA7HcbQQAAAACbhzFBAAAAAAOKU0EAAABAudF7QQAAAADU3hJBAAAAAAB8okAAAAAAgP7HQAAAAAAAcJdAAAAAALz/GUEAAAAAAHbWQAAAAABUchVBAAAAADBmMkEAAAAAMNAFQQAAAAAA19pAAAAAACDZ5EAAAAAAAAAAAAAAAACg0ApBAAAAAMBo20AAAAAAnpktQQAAAADgOwFBAAAAAABj6kAAAAAAAFOxQAAAAAAgk/ZAAAAAAACjwUAAAAAAlDE3QQAAAAAA/vVAAAAA4LtcYEEAAAAAQIMmQQAAAMCnPVhBAAAAAKCH9kAAAACAZexkQQAAAAAAUsxAAAAAAGE0U0EAAAAAALvoQAAAAAAAXspAAAAAAABNvUAAAAAAyMYXQQAAAABgdudAAAAAAL53IEEAAACo53+FQQAAAAAAospAAAAAAEypGEEAAAAAgIQOQQAAAADAd/tAAAAAAJDGB0EAAAAAj+k0QQAAAAB0gCNBAAAAAACwgEAAAAAAvLQdQQAAAID0BEtBAAAA4ENAZkEAAAAABOsSQQAAAADQgvFAAAAAAADerkAAAAAASXI7QQAAALCCiXFBAAAAAARWPkEAAAAApShOQQAAAAAIBBVB",
          "dtype": "f8"
         },
         "xaxis": "x",
         "y": {
          "bdata": "AAAAAABPsEAAAAAAAAAgQAAAAAAALJZAAAAAAAAAGEAAAAAAAOCLQAAAAAAAQHFAAAAAAAAAFEAAAAAAAMBeQAAAAAAAADNAAAAAAAAACEAAAAAAAAAAAAAAAAAA+qtAAAAAAAAAAAAAAAAAAABHQAAAAAAAAPA/AAAAAACAYkAAAAAAAEBqQAAAAAAAaIxAAAAAAAAATUAAAAAAAAA4QAAAAAAARKxAAAAAAACAVkAAAAAAAKBhQAAAAAAAUHBAAAAAAAAAEEAAAAAAACCPQAAAAAAAYGFAAAAAAAAAQEAAAAAAAAA9QAAAAAAAADlAAAAAAACYikAAAAAAALBxQAAAAAAACspAAAAAAAAAAAAAAAAAAK6gQAAAAAAAABhAAAAAAABAV0AAAAAAAEBXQAAAAAAAABBAAAAAAAAANEAAAAAAAAAAAAAAAAAAwFRAAAAAAAAAa0AAAAAAABahQAAAAAAAUrFAAAAAAACAUUAAAAAAAJiIQAAAAAAAsHdAAAAAAAAAVkAAAAAAAABgQAAAAAAAAAAAAAAAAAAAJkAAAAAAAKibQAAAAAAAgEJAAAAAAAAAAAAAAAAAAIBiQAAAAAAAAAAAAAAAAAAAAAAAAAAAAADwPwAAAAAAAD1AAAAAAACASkAAAAAAAIByQAAAAAAAUHRAAAAAAAAAU0AAAAAAAOByQAAAAAAAAEdAAAAAAAAAFEAAAAAAAABBQAAAAAAAlKlAAAAAAAAgc0AAAAAAAAAAQAAAAACAUOFAAAAAAAC2sUAAAAAAAEiSQAAAAAAAYGRAAAAAAAAAAEAAAAAAAAA1QAAAAAAAYGhAAAAAAAAAJEAAAAAAAMiCQAAAAAAAAEFAAAAAAAAATEAAAAAAAPyhQAAAAAAAAAAAAAAAAAAA8D8AAAAAAAAiQAAAAAAA8HFAAAAAAAAAAAAAAAAAAAAAAAAAAAAAADpAAAAAAAAAGEAAAAAAAAA5QAAAAAAAABBAAAAAAAAAAAAAAAAAAKBlQAAAAAAAAIJAAAAAAAAAcEAAAAAAAAAAAAAAAAAAgG1AAAAAAAAAAAAAAAAAAABUQAAAAAAAACZAAAAAAAAghEAAAAAAAAAAAAAAAAAAwFBAAAAAAAAAAAAAAAAAAPB0QAAAAAAAxJhAAAAAAABwg0AAAAAAAIBxQAAAAAAA1KtAAAAAAAAAAAAAAAAAAAAiQAAAAAAA4GNAAAAAAABck0AAAAAAAGSpQAAAAAAAAEBAAAAAAAAA8D8AAAAAAIBEQAAAAAAA58RAAAAAAAAAW0AAAAAAAAA8QAAAAAAAAFFAAAAAAADwjEAAAAAAABCVQAAAAAAAAE9AAAAAAACAS0AAAAAAAAAUQAAAAAAAAAAAAAAAAAAQe0AAAAAAAAAUQAAAAAAAwG1AAAAAAADwgUAAAAAAANCBQAAAAAAAABhAAAAAAAAAKEAAAAAAAAAAAAAAAAAAACBAAAAAAACAekAAAAAAAIBZQAAAAAAAgE9AAAAAAAAAEEAAAAAAAAAAAAAAAAAA4GZAAAAAAAAALEAAAAAAAAAmQAAAAAAAgFFAAAAAAAAAfUAAAAAAAAiSQAAAAAAAoGVAAAAAAAAQdEAAAAAAAMyVQAAAAAAAABRAAAAAAABQk0AAAAAAAAAUQAAAAAAAAAAAAAAAAAAAIkAAAAAAAAAiQAAAAAAAgEJAAAAAAADgbEAAAAAAAIqjQAAAAAAAACBAAAAAAAAAVEAAAAAAAAAAAAAAAAAAgExAAAAAAAAgd0AAAAAAAFB/QAAAAAAAgE9AAAAAAAAAEEAAAAAAAABGQAAAAAAAwINAAAAAAACYikAAAAAAAAAqQAAAAAAAACJAAAAAAAAAAAAAAAAAAAB0QAAAAAAACKdAAAAAAAA4lkAAAAAAAIBRQAAAAAAAUHFA",
          "dtype": "f8"
         },
         "yaxis": "y"
        },
        {
         "hovertemplate": "<b>%{hovertext}</b><br><br>Disaster Type=Mass movement (wet)<br>Affected=%{x}<br>Deaths=%{y}<br>Loss_USD_adj=%{marker.size}<extra></extra>",
         "hovertext": [
          "Afghanistan",
          "Angola",
          "Argentina",
          "Armenia",
          "Austria",
          "Azerbaijan",
          "Bangladesh",
          "Bolivia (Plurinational State of)",
          "Bosnia and Herzegovina",
          "Brazil",
          "Burundi",
          "Cameroon",
          "Chad",
          "Chile",
          "China",
          "Colombia",
          "Costa Rica",
          "Côte d’Ivoire",
          "Democratic Republic of the Congo",
          "Ecuador",
          "El Salvador",
          "Ethiopia",
          "French Guiana",
          "Georgia",
          "Guatemala",
          "Guinea",
          "Haiti",
          "India",
          "Indonesia",
          "Iran (Islamic Republic of)",
          "Italy",
          "Japan",
          "Kazakhstan",
          "Kenya",
          "Kyrgyzstan",
          "Malawi",
          "Malaysia",
          "Mexico",
          "Mongolia",
          "Morocco",
          "Mozambique",
          "Myanmar",
          "Nepal",
          "Nicaragua",
          "Nigeria",
          "Norway",
          "Pakistan",
          "Papua New Guinea",
          "Peru",
          "Philippines",
          "Republic of Korea",
          "Russian Federation",
          "Rwanda",
          "Sierra Leone",
          "Sri Lanka",
          "Switzerland",
          "Syrian Arab Republic",
          "Tajikistan",
          "Thailand",
          "Trinidad and Tobago",
          "Türkiye",
          "Uganda",
          "United Republic of Tanzania",
          "United States of America",
          "Uzbekistan",
          "Venezuela (Bolivarian Republic of)",
          "Viet Nam",
          "Yemen",
          "Zambia"
         ],
         "legendgroup": "Mass movement (wet)",
         "marker": {
          "color": "#19d3f3",
          "size": {
           "bdata": "AAAAAOhJTkEAAAAAAAAAAAAAAIC86nRBAAAAAAAAAAAAAAAAAAAAAAAAAAAAAAAAAAAAAAAAAAAAAABwfpevQQAAAAAAAAAAAAAAyIDstUEAAAAAAAAAAAAAAAAAAAAAAAAAAAAAAAAAAAAAAAAAAAAAAL0GJONBAAAAIBofn0EAAAAAAAAAAAAAAAAAAAAAAAAAAAAAAAAAAAAA0BJjQQAAAAAAAAAAAAAAAAD55UAAAAAAAAAAAAAAAAAAAAAAAAAAQDWixUEAAAAAAAAAAAAAAAAAAAAAAAAAUGtDqkEAAADQnLmvQQAAAAAAAAAAAAAAAAAAAAAAAAAIZ0C0QQAAAAAAAAAAAAAAAAAAAAAAAAAAYPVDQQAAAAAAAAAAAAAAAAAAAAAAAAAAAAAAAAAAAAAAAAAAAAAAAAAAAAAAAAAAAAAAAAAAAAAAAAAAAAAAAIr0ckEAAAAAAAAAAAAAAAAAAAAAAAAAkIDIokEAAAAAx7F4QQAAAAA4nIxBAAAAAAAAAAAAAADgZSKfQQAAAAAAAAAAAAAAAAAAAAAAAACAxq2AQQAAAACGToJBAAAAAAAAAAAAAADkTEXLQQAAAAAAAAAAAAAAoBfskEEAAAAAAAAAAAAAAAAAAAAAAAAAAAAAAAAAAAAAAAAAAAAAAAAAAAAAAAAACPgl0UEAAAAAAAAAAAAAAAAAAAAAAAAAAAAAAAAAAAAAAAAAAAAAAAAAAAAA",
           "dtype": "f8"
          },
          "sizemode": "area",
          "sizeref": 439819017.5,
          "symbol": "circle"
         },
         "mode": "markers",
         "name": "Mass movement (wet)",
         "showlegend": true,
         "type": "scattergl",
         "x": {
          "bdata": "AAAAAICDFEEAAAAAAAAAAAAAAAAAetZAAAAAAABwh0AAAAAAAAAAAAAAAAAAAAAAAAAAALDbAkEAAAAAgAvQQAAAAAAAMHlAAAAAACDcAkEAAAAAANzKQAAAAAAAXKJAAAAAAACAQkAAAAAAAMBhQAAAAADFr0JBAAAAAIDF9EAAAAAAAABpQAAAAACAjsNAAAAAAABwnEAAAAAAgOjIQAAAAAAAaIBAAAAAAICwzkAAAAAAAAAUQAAAAAAAAAAAAAAAAEDHBUEAAAAAAMB+QAAAAAAA4MVAAAAAAMglBkEAAAAASoQtQQAAAAAAABBAAAAAAAAAgkAAAAAAAFyVQAAAAAAAAAAAAAAAAABAYkAAAAAAAPrCQAAAAAAAQFtAAAAAAAAAWUAAAAAAAMB0QAAAAAAAAAAAAAAAAAAAAAAAAAAAAMByQAAAAADoNQJBAAAAAIzqFkEAAAAAAIm2QAAAAAAAwHJAAAAAAAAgkkAAAAAAQNndQAAAAAAAmdJAAAAAAAAgykAAAACA75NIQQAAAAAAqJ9AAAAAAABuq0AAAAAAYIviQAAAAACASMdAAAAAAAAUnEAAAAAAAAybQAAAAAAAADdAAAAAAMCC1UAAAAAAwCrgQAAAAAAAwJJAAAAAAABoj0AAAAAAEG8GQQAAAAAAW7lAAAAAAADsl0AAAAAAAAAYQAAAAACgye9AAAAAAAAgcUAAAAAAAAA/QAAAAAAAwGJA",
          "dtype": "f8"
         },
         "xaxis": "x",
         "y": {
          "bdata": "AAAAAACYjkAAAAAAAAAqQAAAAAAAADxAAAAAAAAAAAAAAAAAAAA1QAAAAAAAACZAAAAAAACQcEAAAAAAACBnQAAAAAAAABhAAAAAAABgcUAAAAAAAIBPQAAAAAAAgGBAAAAAAAAASkAAAAAAAAA2QAAAAAAAqq5AAAAAAAD8kUAAAAAAAAAcQAAAAAAAgENAAAAAAABge0AAAAAAAGBlQAAAAAAAAEVAAAAAAACwdkAAAAAAAAAkQAAAAAAAADJAAAAAAABIhkAAAAAAAAAcQAAAAAAAACpAAAAAAAA4m0AAAAAAALScQAAAAAAAAEBAAAAAAAAANEAAAAAAAABjQAAAAAAAAEhAAAAAAAAgY0AAAAAAAIBfQAAAAAAAACBAAAAAAACATUAAAAAAAGBjQAAAAAAAADFAAAAAAAAALkAAAAAAAAAxQAAAAAAA4HtAAAAAAAC4kkAAAAAAAAA9QAAAAAAAAEBAAAAAAAAAJkAAAAAAAOB9QAAAAAAAKItAAAAAAAAwdkAAAAAAADifQAAAAAAAgE1AAAAAAACAZEAAAAAAAEBcQAAAAAAAeJFAAAAAAAAgbkAAAAAAAABCQAAAAAAAAFRAAAAAAADAVkAAAAAAAABDQAAAAAAAAABAAAAAAABAXEAAAAAAAOiHQAAAAAAAAF9AAAAAAADAU0AAAAAAAAAgQAAAAAAAQFtAAAAAAAAAXkAAAAAAAABYQAAAAAAAACJA",
          "dtype": "f8"
         },
         "yaxis": "y"
        },
        {
         "hovertemplate": "<b>%{hovertext}</b><br><br>Disaster Type=Storm<br>Affected=%{x}<br>Deaths=%{y}<br>Loss_USD_adj=%{marker.size}<extra></extra>",
         "hovertext": [
          "Afghanistan",
          "Albania",
          "Algeria",
          "American Samoa",
          "Anguilla",
          "Antigua and Barbuda",
          "Argentina",
          "Armenia",
          "Australia",
          "Austria",
          "Bahamas",
          "Bangladesh",
          "Barbados",
          "Belarus",
          "Belgium",
          "Belize",
          "Benin",
          "Bermuda",
          "Bhutan",
          "Bolivia (Plurinational State of)",
          "Bosnia and Herzegovina",
          "Botswana",
          "Brazil",
          "British Virgin Islands",
          "Bulgaria",
          "Burundi",
          "Cabo Verde",
          "Cambodia",
          "Canada",
          "Canary Islands",
          "Cayman Islands",
          "Central African Republic",
          "Chad",
          "Chile",
          "China",
          "China, Hong Kong Special Administrative Region",
          "China, Macao Special Administrative Region",
          "Colombia",
          "Comoros",
          "Cook Islands",
          "Costa Rica",
          "Croatia",
          "Cuba",
          "Cyprus",
          "Czechia",
          "Democratic People's Republic of Korea",
          "Democratic Republic of the Congo",
          "Denmark",
          "Djibouti",
          "Dominica",
          "Dominican Republic",
          "Ecuador",
          "Egypt",
          "El Salvador",
          "Estonia",
          "Eswatini",
          "Ethiopia",
          "Fiji",
          "France",
          "French Polynesia",
          "Gabon",
          "Gambia",
          "Georgia",
          "Germany",
          "Ghana",
          "Greece",
          "Grenada",
          "Guadeloupe",
          "Guam",
          "Guatemala",
          "Guinea-Bissau",
          "Haiti",
          "Honduras",
          "Hungary",
          "India",
          "Indonesia",
          "Iran (Islamic Republic of)",
          "Iraq",
          "Ireland",
          "Israel",
          "Italy",
          "Jamaica",
          "Japan",
          "Jordan",
          "Kiribati",
          "Kyrgyzstan",
          "Lao People's Democratic Republic",
          "Latvia",
          "Lebanon",
          "Lesotho",
          "Liberia",
          "Libya",
          "Lithuania",
          "Luxembourg",
          "Madagascar",
          "Malawi",
          "Malaysia",
          "Maldives",
          "Marshall Islands",
          "Martinique",
          "Mauritania",
          "Mauritius",
          "Mayotte",
          "Mexico",
          "Micronesia (Federated States of)",
          "Mongolia",
          "Morocco",
          "Mozambique",
          "Myanmar",
          "Nepal",
          "Netherlands (Kingdom of the)",
          "New Caledonia",
          "New Zealand",
          "Nicaragua",
          "Niger",
          "Nigeria",
          "Niue",
          "North Macedonia",
          "Northern Mariana Islands",
          "Norway",
          "Oman",
          "Pakistan",
          "Palau",
          "Panama",
          "Papua New Guinea",
          "Paraguay",
          "Peru",
          "Philippines",
          "Poland",
          "Portugal",
          "Puerto Rico",
          "Republic of Korea",
          "Republic of Moldova",
          "Romania",
          "Russian Federation",
          "Rwanda",
          "Réunion",
          "Saint Barthélemy",
          "Saint Helena",
          "Saint Kitts and Nevis",
          "Saint Lucia",
          "Saint Martin (French Part)",
          "Saint Vincent and the Grenadines",
          "Samoa",
          "Saudi Arabia",
          "Senegal",
          "Serbia",
          "Serbia Montenegro",
          "Seychelles",
          "Sierra Leone",
          "Sint Maarten (Dutch part)",
          "Slovakia",
          "Slovenia",
          "Solomon Islands",
          "Somalia",
          "South Africa",
          "Spain",
          "Sri Lanka",
          "State of Palestine",
          "Sudan",
          "Sweden",
          "Switzerland",
          "Syrian Arab Republic",
          "Taiwan (Province of China)",
          "Tajikistan",
          "Thailand",
          "Timor-Leste",
          "Tokelau",
          "Tonga",
          "Trinidad and Tobago",
          "Turks and Caicos Islands",
          "Tuvalu",
          "Türkiye",
          "Uganda",
          "Ukraine",
          "United Kingdom of Great Britain and Northern Ireland",
          "United Republic of Tanzania",
          "United States Virgin Islands",
          "United States of America",
          "Uruguay",
          "Vanuatu",
          "Venezuela (Bolivarian Republic of)",
          "Viet Nam",
          "Wallis and Futuna Islands",
          "Yemen",
          "Zimbabwe"
         ],
         "legendgroup": "Storm",
         "marker": {
          "color": "#FF6692",
          "size": {
           "bdata": "AAAAAMaiXkEAAAAAAAAAAAAAAAAAAAAAAAAAUFOyrUEAAADA6YKuQQAAAOBiJrRBAAAAEGumukEAAAAgIc6TQQAAgDgrYxhCAAAAMk7Y4EEAAID9YbH+QQAAAN2YxflBAAAAABmBYEEAAAAANdtsQQAAAJgNhs9BAAAAzCwQ0EEAAAAAAAAAAAAAAMjcfb5BAAAAAAAAAAAAAAAAAAAAAAAAAAAAAAAAAAAAAAAAAAAAAABsrrvaQQAAADa4muxBAAAA8JyFxUEAAAAAAAAAAAAAAACANzZBAAAAgLTlnEEAAMDHG5YLQgAAAPyK88FBAACAYmmo9UEAAAAAAAAAAAAAAAAAAAAAAAAAJIEhxkEAAGBKhn5EQgAAAFCl1MxBAAAAuCwU20EAAADomfixQQAAAAAAAAAAAAAAAAAAAAAAAADosBWwQQAAAODHj6hBAAAAkHmQD0IAAAAAFkNwQQAAAIBI6+5BAADASwRtBEIAAAAAAAAAAAAAALpdr+BBAAAAAAAAAAAAAAAxdN7iQQAAABIFb9BBAAAAAAAAAAAAAACASyl/QQAAAIK40uBBAAAAYH/kqEEAAAAAAAAAAAAAAAAAAAAAAAAAymN20EEAAMBHmGgKQgAAAACQLm5BAAAAAAAAAAAAAAAAAAAAAAAAAOCPpJ1BAADgq4EEG0IAAAAAAAAAAAAAALaNedpBAAAAfmFo3EEAAABAZhrCQQAAgK6LV/FBAAAAUGBI5kEAAAAAAAAAAAAAAOAMTOdBAAAAsHnls0EAAAAAJa5tQQAAAHkV0SNCAAAA9C2ky0EAAAAAYFoYQQAAAAAAAAAAAAAAEDy3pUEAAAAAlBxTQQAAAGimKvJBAAAAfZie6UEAACBI8bM6QgAAAAAAAAAAAAAAAAAAAAAAAAAAAAAAAAAAACTOrMVBAAAAUJsdv0EAAAAAAAAAAAAAAAAAAAAAAAAAAAAAAAAAAADfLcf3QQAAAABT+oZBAAAAANlDhUEAAACyPtnSQQAAANjSF79BAAAAAAAAAAAAAAAAAAAAAAAAAAAAAAAAAAAAuLZovkEAAAAAAAAAAAAAAIAFypRBAAAAAE5pxkEAAFCQpuYpQgAAAAAubm1BAAAAQGNfoUEAAABI2bK3QQAAACqE0+RBAAAABN91/0EAAAAAAAAAAAAAACkXp+hBAAAAoCVDkEEAAABGomDmQQAAAMRojdNBAAAAAAAAAAAAAAAA8Nc0QQAAAIAhrY9BAAAAAAAAAAAAAAAAAAAAAAAAAGB/5KhBAACA9c3H/EEAAADUOx7jQQAAAAAAAAAAAAAAgJZnnUEAAAAAAAAAAAAAAED+WoFBAAAAaF6hxUEAAMB3maUaQgAAAJiGFsZBAAAASF/Av0EAAKhgbRo1QgAAIF0IZxNCAAAAANtyi0EAAAAAhtFhQQAAAIDvCIlBAAAAAAAAAAAAAACgNNKnQQAAAAAAAAAAAAAAAAAAAAAAAACAx2h4QQAAAKB9LphBAACAjNuL80EAAADAe0GOQQAAAHCAqaVBAAAAgEspj0EAAAAAAAAAAAAAAAAAAAAAAAAAAAAAAAAAAAAAv+JnQQAAAAAAAAAAAAAALUTW50EAAAAcCHjDQQAAAGisrMFBAAAAAOwxREEAAAAAxItEQQAAAOitJMhBAACAbUVD9kEAAAB4vwi/QQAAAAAAAAAAAAAAAAAAAAAAAABSLMHwQQAAAMpffN1BAAAAAAAAAAAAAIBHbI/0QQAAAABgVBlBAAAAONJlzEEAAAAAAAAAAAAAAAAAAAAAAAAA2DsisEEAAAAASFg5QQAAADraY9RBAAAAAAAAAAAAAABcLeLGQQAAAAAAAAAAAAAAaIDjwEEAAICoVBMAQgAAAIDADaZBAAAAAAAAAAAAgFnDbgp3QgAAAIAFyoRBAAAAtP3NwUEAAAAAAAAAAAAAwMhBlQ1CAAAAAAAAAAAAAABQ6Y2vQQAAABCtDK1B",
           "dtype": "f8"
          },
          "sizemode": "area",
          "sizeref": 439819017.5,
          "symbol": "circle"
         },
         "mode": "markers",
         "name": "Storm",
         "showlegend": true,
         "type": "scattergl",
         "x": {
          "bdata": "AAAAAKAj40AAAAAAkAUgQQAAAAAAABRAAAAAAACF1kAAAAAAAEzNQAAAAAAA1t9AAAAAANjHGkEAAAAAQN7+QAAAAAD4pAxBAAAAAABepkAAAAAAwHbpQAAAAPCXaoBBAAAAAIAvxkAAAAAAAAAAAAAAAAAAQFJAAAAAAJSuFUEAAAAAAACJQAAAAAAAAAAAAAAAAAAAAAAAAAAAQBv4QAAAAAAAADRAAAAAAIC7+UAAAAAAXv4gQQAAAAAAAAAAAAAAAAAAU0AAAAAAgKTXQAAAAAAAAAAAAAAAACA/LUEAAAAAEETwQAAAAAAAAAAAAAAAAADAckAAAAAAACzkQAAAAAAAIGJAAAAAAMAR3kAAAABffQi1QQAAAABAXtNAAAAAAACgaUAAAAAASpEhQQAAAAA0lxlBAAAAAADEq0AAAAAAoDgbQQAAAAAAistAAAAAUDC3ekEAAAAAAABEQAAAAAAwDw9BAAAAQLU2V0EAAAAAsEj5QAAAAAAAmIFAAAAAAABq2EAAAAAA0E76QAAAAAA2vj9BAAAAAEQtFUEAAAAAoALgQAAAAADEYBZBAAAAAABitkAAAAAAgBPBQAAAAAAA3OJAAAAAAFd2NUEAAAAAF9EwQQAAAAAApqpAAAAAAACivEAAAAAAANvnQAAAAABAVOJAAAAAAACkkUAAAAAAAAAoQAAAAAAA5JZAAAAAALBg8EAAAAAAIIjzQAAAAABAL/xAAAAAwHL5UEEAAAAAgIrGQAAAAIDlckhBAAAAgN6+VUEAAAAA8DYEQQAAAIy5dZFBAAAAAIYUIEEAAAAAsLkJQQAAAAAAR75AAAAAAABwp0AAAAAAmpI+QQAAAADgdedAAAAAAGS0K0EAAAAAsac7QQAAAAAAAGlAAAAAAABwl0AAAAAAgLnBQAAAAAAY5C5BAAAAAAAAeUAAAAAAousuQQAAAACApchAAAAAAABYq0AAAAAAAGo4QQAAAAAAAAAAAAAAAAC8l0AAAAAAeZVYQQAAAADxgUlBAAAAACCM5EAAAAAAAKCUQAAAAAAAE9NAAAAAAAAAIEAAAAAAAOCfQAAAAADIUQBBAAAAAGg+DEEAAACA0IJbQQAAAADgL+pAAAAAgJfrQ0EAAAAAgJD8QAAAAAC761pBAAAAwMA8VEEAAAAAAMLPQAAAAAAAABRAAAAAAAAwkUAAAAAAgEnMQAAAAADA6TNBAAAAAACUk0AAAAAAwJLSQAAAAAAA8IVAAAAAAAAACEAAAAAAAOCKQAAAAAAAwIJAAAAAAICs2UAAAAAAKmpEQQAAAAAArcBAAAAAAOAP4EAAAAAAKGwGQQAAAABgEAJBAAAAALgXAEEAAAAKWImlQQAAAACA6PBAAAAAAAD3sEAAAAAAPhEnQQAAAAD8ExVBAAAAACXWQ0EAAAAAwIHRQAAAAADAht9AAAAAAACZuUAAAAAAgNvdQAAAAAAAAAAAAAAAAADAckAAAAAAAEB/QAAAAACAJQlBAAAAAACAW0AAAAAAQGDWQAAAAACAz8hAAAAAAACAXkAAAAAAAECPQAAAAAAAADRAAAAAAAAXwUAAAAAAACTDQAAAAAAAADFAAAAAAACws0AAAAAAACrEQAAAAADA09NAAAAAAIjfCkEAAAAAuAAgQQAAAACoOARBAAAAAAARsEAAAAAAw+I0QQAAAAAQzvNAAAAAAABPz0AAAAAAAAAAAAAAAAAAoc1AAAAAAGBfFkEAAACAVMlGQQAAAAAA8IlAAAAAgPjnQEEAAAAAgJoCQQAAAAAAADpAAAAAANAmAUEAAAAAAICBQAAAAAAAkJpAAAAAAIDAw0AAAAAAAJClQAAAAABAcNJAAAAAACBQ7EAAAAAAoNnwQAAAAAAKMT9BAAAAAAAAAAAAAABEXxaXQQAAAAAAbLNAAAAAACAqL0EAAAAAkLX0QAAAALA/Y3ZBAAAAAACQk0AAAAAACDkBQQAAAACw3hdB",
          "dtype": "f8"
         },
         "xaxis": "x",
         "y": {
          "bdata": "AAAAAADwfkAAAAAAAAAgQAAAAAAAADdAAAAAAAAAAAAAAAAAAAAQQAAAAAAAAPA/AAAAAABAXEAAAAAAAAAQQAAAAAAAAE9AAAAAAACAQEAAAAAAAEB5QAAAAAAAirhAAAAAAAAAAEAAAAAAAAAAAAAAAAAAADNAAAAAAAAAS0AAAAAAAAAAAAAAAAAAABBAAAAAAAAAKEAAAAAAAIBFQAAAAAAAABRAAAAAAAAAAAAAAAAAAIBZQAAAAAAAACJAAAAAAAAAHEAAAAAAAAA3QAAAAAAAACJAAAAAAAAAVEAAAAAAAABLQAAAAAAAADVAAAAAAAAAAEAAAAAAAAAgQAAAAAAAACxAAAAAAAAAS0AAAAAAAPyzQAAAAAAAACRAAAAAAAAAJEAAAAAAAABFQAAAAAAAACBAAAAAAAAAAAAAAAAAAAA7QAAAAAAAAAhAAAAAAABAV0AAAAAAAAAAAAAAAAAAAD9AAAAAAACgbEAAAAAAAIBJQAAAAAAAACBAAAAAAAAAAEAAAAAAAABYQAAAAAAAgG9AAAAAAABAWEAAAAAAAMBXQAAAAAAAMHxAAAAAAAAA8D8AAAAAAADwPwAAAAAAAPA/AAAAAABAXUAAAAAAAMBmQAAAAAAAAPA/AAAAAAAAAAAAAAAAAAAzQAAAAAAAAAhAAAAAAADAX0AAAAAAAAA0QAAAAAAAADBAAAAAAACAR0AAAAAAAAAUQAAAAAAAABBAAAAAAAAonkAAAAAAAAAIQAAAAAAAGLFAAAAAAACAbkAAAAAAAAAiQAAAAAAABrFAAAAAAABwcEAAAAAAAEBQQAAAAAAAABBAAAAAAAAAGEAAAAAAAAAcQAAAAAAAQFFAAAAAAACAUEAAAAAAALiRQAAAAAAAACJAAAAAAAAAAAAAAAAAAAAQQAAAAAAAADdAAAAAAAAAAAAAAAAAAAA3QAAAAAAAAAhAAAAAAAAAAAAAAAAAAMjJQAAAAAAAAAAAAAAAAAAAAAAAAAAAAESdQAAAAAAAtJRAAAAAAAAACEAAAAAAAAAAAAAAAAAAAAAAAAAAAAAAAEAAAAAAAAAyQAAAAAAAACJAAAAAAACAQUAAAAAAAIiLQAAAAAAAgEpAAAAAAACAXEAAAAAAAABJQAAAAAAAOJNAAAAAAKACAUEAAAAAAEBiQAAAAAAAADZAAAAAAAAAAEAAAAAAAAAxQAAAAAAAgHBAAAAAAAAAEEAAAAAAAABPQAAAAAAAAPA/AAAAAAAA8D8AAAAAAAAUQAAAAAAAABBAAAAAAABAZEAAAAAAAOCIQAAAAAAAAAAAAAAAAAAAWkAAAAAAAIBlQAAAAAAAABxAAAAAAADAVEAAAAAAwOXUQAAAAAAAQFNAAAAAAAAALkAAAAAAAABYQAAAAAAAUIFAAAAAAAAAEEAAAAAAAIBHQAAAAAAAAFJAAAAAAAAACEAAAAAAAAAsQAAAAAAAABBAAAAAAAAAAAAAAAAAAAAAAAAAAAAAADBAAAAAAAAAKEAAAAAAAAAgQAAAAAAAADZAAAAAAAAACEAAAAAAAAAAQAAAAAAAAPA/AAAAAAAAAAAAAAAAAAAAAAAAAAAAAC5AAAAAAAAAEEAAAAAAAAAQQAAAAAAAACBAAAAAAACATEAAAAAAAMBsQAAAAAAAAGxAAAAAAACAUEAAAAAAAIBaQAAAAAAAABRAAAAAAACASkAAAAAAAAAwQAAAAAAAADBAAAAAAACAR0AAAAAAACiTQAAAAAAAAAAAAAAAAAAAXkAAAAAAAIBEQAAAAAAAAAAAAAAAAAAAEEAAAAAAAADwPwAAAAAAABBAAAAAAAAAAAAAAAAAAABPQAAAAAAAgEZAAAAAAAAAN0AAAAAAAEBVQAAAAAAAAEpAAAAAAAAAHEAAAAAAALC8QAAAAAAAADJAAAAAAAAAPkAAAAAAAAA2QAAAAAAACKRAAAAAAAAAAAAAAAAAAABcQAAAAAAAKI1A",
          "dtype": "f8"
         },
         "yaxis": "y"
        },
        {
         "hovertemplate": "<b>%{hovertext}</b><br><br>Disaster Type=Wildfire<br>Affected=%{x}<br>Deaths=%{y}<br>Loss_USD_adj=%{marker.size}<extra></extra>",
         "hovertext": [
          "Albania",
          "Algeria",
          "Argentina",
          "Australia",
          "Belize",
          "Benin",
          "Bolivia (Plurinational State of)",
          "Brazil",
          "Bulgaria",
          "Canada",
          "Canary Islands",
          "Central African Republic",
          "Chile",
          "China",
          "Colombia",
          "Croatia",
          "Cyprus",
          "Democratic Republic of the Congo",
          "Dominican Republic",
          "Ecuador",
          "Eswatini",
          "Ethiopia",
          "France",
          "Greece",
          "Guatemala",
          "Guinea",
          "Honduras",
          "India",
          "Indonesia",
          "Iran (Islamic Republic of)",
          "Israel",
          "Italy",
          "Japan",
          "Kazakhstan",
          "Latvia",
          "Lebanon",
          "Malaysia",
          "Mexico",
          "Montenegro",
          "Mozambique",
          "Nepal",
          "New Zealand",
          "Nicaragua",
          "North Macedonia",
          "Pakistan",
          "Panama",
          "Paraguay",
          "Peru",
          "Portugal",
          "Republic of Korea",
          "Russian Federation",
          "Sierra Leone",
          "Slovakia",
          "South Africa",
          "South Sudan",
          "Spain",
          "Sweden",
          "Syrian Arab Republic",
          "Thailand",
          "Tunisia",
          "Türkiye",
          "Ukraine",
          "United States of America",
          "Viet Nam"
         ],
         "legendgroup": "Wildfire",
         "marker": {
          "color": "#B6E880",
          "size": {
           "bdata": "AAAAAAAAAAAAAAAAAAAAAAAAABjcmMhBAAAAjZ16+UEAAAAAAAAAAAAAAAAAAAAAAAAAAITXl0EAAAAAAAAAAAAAAIDxDoFBAADAFjDJAUIAAAAAAAAAAAAAAAAAAAAAAAAA6UsW6UEAAAAAAAAAAAAAAAAAAAAAAAAAgBuuj0EAAACA2PGJQQAAAAAAAAAAAAAAAAAAAAAAAAAAAAAAAAAAAAAAAAAAAAAAAAAAAAAAAAAAQ6NuQQAAAD6wtepBAAAAAAAAAAAAAAAAAAAAAAAAAAAAAAAAAAAAAAAAAAAAAAAwzgvUQQAAAAAAAAAAAAAA+JrUz0EAAABw6S+sQQAAAAAAAAAAAAAAAAAAAAAAAAAAAAAAAAAAAAAAAAAAAAAAAAAAAAAAAAAAAAAAAAAAAAAAAAAAAAAAAAAAAAAAAAAAAAAAAAAAAAD4HWdBAAAAAAAAAAAAAACA+493QQAAAAAAAAAAAAAAAAAAAAAAAADAZ6SFQQAAAABXpqZBAAAAWOMN+0EAAAAAAAAAAAAAALCV/uVBAAAAAAAAAAAAAAAAAAAAAAAAAB6/ndFBAAAAAAAAAAAAAABs+hrwQQAAACApYZ5BAAAAAAAAAAAAAAAAAAAAAAAAAAAAAAAAAAAAACUCsEEAAABgIGinQQAAIKYeJTlCAAAAAAAAAAA=",
           "dtype": "f8"
          },
          "sizemode": "area",
          "sizeref": 439819017.5,
          "symbol": "circle"
         },
         "mode": "markers",
         "name": "Wildfire",
         "showlegend": true,
         "type": "scattergl",
         "x": {
          "bdata": "AAAAAADAUkAAAAAAEFzzQAAAAACAJv9AAAAAAIBe3kAAAAAAAACJQAAAAAAAjqVAAAAAAFhFB0EAAABg4hNjQQAAAAAAIIVAAAAAAFgyB0EAAAAAAFB5QAAAAACAB95AAAAAAHDO+EAAAAAAAAO5QAAAAAAAGv1AAAAAAACAWkAAAAAAAGiHQAAAAABAP+1AAAAAAAAAAAAAAAAAAGSeQAAAAAAAcJdAAAAAAAAAFEAAAAAAgBLOQAAAAABg3vZAAAAAAAAAaUAAAAAAAEiIQAAAAAAAjqNAAAAAAAAAAAAAAAAAQAcZQQAAAAAAAAAAAAAAALCU80AAAAAAAKjGQAAAAAAAmKlAAAAAAADAckAAAAAAAAAAAAAAAAAAAC5AAAAAAAAAAAAAAAAAAAAAAAAAAAAAAGlAAAAAAACep0AAAAAAAAAAAAAAAAAAYGhAAAAAAABAz0AAAAAAwHowQQAAAAAASK9AAAAAAABwlkAAAAAAgH7/QAAAAAAAdJ1AAAAAALA4CEEAAAAAANfcQAAAAABAdd9AAAAAAAAluUAAAAAAAAAAAAAAAACAxsNAAAAAAAAAKEAAAAAAAMO7QAAAAAAAAAAAAAAAAGC+CkEAAAAAAAAAAAAAAAAAcKdAAAAAAOgtIUEAAAAAAMCeQAAAAADK3zFBAAAAAAAAAAA=",
          "dtype": "f8"
         },
         "xaxis": "x",
         "y": {
          "bdata": "AAAAAAAAAAAAAAAAAABmQAAAAAAAADhAAAAAAABgbkAAAAAAAAAAAAAAAAAAAPA/AAAAAAAAM0AAAAAAAAAAAAAAAAAAACRAAAAAAAAAHEAAAAAAAAAAAAAAAAAAAPA/AAAAAACAaEAAAAAAAMBSQAAAAAAAAEVAAAAAAAAAKkAAAAAAAAAYQAAAAAAAACZAAAAAAAAAAAAAAAAAAAAUQAAAAAAAAABAAAAAAAAAAAAAAAAAAAAcQAAAAAAAAGlAAAAAAAAAAAAAAAAAAAAAAAAAAAAAAAAAAAAAAAAAOEAAAAAAAAAzQAAAAAAAAAAAAAAAAAAARkAAAAAAAAAqQAAAAAAAAPA/AAAAAAAALEAAAAAAAAAAAAAAAAAAAPA/AAAAAAAAAAAAAAAAAAAAAAAAAAAAAAAAAAAAAACASEAAAAAAAAAmQAAAAAAAAAAAAAAAAAAAAAAAAAAAAAAAQAAAAAAAABBAAAAAAAAAAAAAAAAAAAAgQAAAAAAAACxAAAAAAACgZEAAAAAAAIBBQAAAAAAAYGFAAAAAAAAAAAAAAAAAAAAYQAAAAAAAwFlAAAAAAAAASUAAAAAAAIBCQAAAAAAAAAAAAAAAAAAACEAAAAAAAAAAAAAAAAAAAAAAAAAAAAAAKkAAAAAAAAAwQAAAAAAAkH5AAAAAAAAAAAA=",
          "dtype": "f8"
         },
         "yaxis": "y"
        },
        {
         "hovertemplate": "<b>%{hovertext}</b><br><br>Disaster Type=Volcanic activity<br>Affected=%{x}<br>Deaths=%{y}<br>Loss_USD_adj=%{marker.size}<extra></extra>",
         "hovertext": [
          "Argentina",
          "Bolivia (Plurinational State of)",
          "Cabo Verde",
          "Canary Islands",
          "Chile",
          "Colombia",
          "Comoros",
          "Costa Rica",
          "Democratic Republic of the Congo",
          "Ecuador",
          "El Salvador",
          "Ethiopia",
          "Guatemala",
          "Iceland",
          "Indonesia",
          "Italy",
          "Japan",
          "Mexico",
          "Montserrat",
          "New Zealand",
          "Northern Mariana Islands",
          "Papua New Guinea",
          "Peru",
          "Philippines",
          "Rwanda",
          "Saint Vincent and the Grenadines",
          "Tonga",
          "United States of America",
          "Vanuatu",
          "Yemen"
         ],
         "legendgroup": "Volcanic activity",
         "marker": {
          "color": "#FF97FF",
          "size": {
           "bdata": "AAAAUA5KoUEAAAAAAAAAAAAAAAAAAAAAAAAAghhA0UEAAADwcKrHQQAAAAAAAAAAAAAAAAAAAAAAAAAAAAAAAAAAAACT721BAAAAQG4krkEAAAAAAAAAAAAAAAAAAAAAAAAAAAAAAAAAAAAAAAAAAAAAAICyV8FBAAAA0MnHoUEAAAAAAAAAAAAAAAAAAAAAAAAAAAAAAAAAAAAAAAAAAAAAAAAAAAAAAAAAAAAAAAAAAAAAAAAAAAAAAEBSL5ZBAAAAAAAAAAAAAADI62y2QQAAAKDJJ55BAAAARGudwkEAAAAAAAAAAAAAAAAAAAAA",
           "dtype": "f8"
          },
          "sizemode": "area",
          "sizeref": 439819017.5,
          "symbol": "circle"
         },
         "mode": "markers",
         "name": "Volcanic activity",
         "showlegend": true,
         "type": "scattergl",
         "x": {
          "bdata": "AAAAAABwp0AAAAAAAHCnQAAAAAAAiKNAAAAAAADoukAAAAAAAKfSQAAAAACg2ORAAAAAAIBVEUEAAAAAgATSQAAAAABQVxhBAAAAAIgkOEEAAAAA4MbvQAAAAAAAfMVAAAAAAEReOkEAAAAAAAAAAAAAAAAG3yVBAAAAAACAdEAAAAAAQBXQQAAAAACAKuRAAAAAAAAAaUAAAAAAAAA3QAAAAAAAAAAAAAAAAOC37EAAAAAAAJ/gQAAAAACaBTZBAAAAAIAaykAAAAAAAPrJQAAAAAAAjfRAAAAAAACIo0AAAAAAoOLmQAAAAAAAAC5A",
          "dtype": "f8"
         },
         "xaxis": "x",
         "y": {
          "bdata": "AAAAAAAAAAAAAAAAAAAAAAAAAAAAAAAAAAAAAAAA8D8AAAAAAAAAAAAAAAAAADBAAAAAAAAA8D8AAAAAAAAAAAAAAAAAAG1AAAAAAAAAFEAAAAAAAAAAQAAAAAAAABRAAAAAAADQfEAAAAAAAAAAAAAAAAAA4IxAAAAAAAAAAAAAAAAAAIBPQAAAAAAAAAAAAAAAAAAAAAAAAAAAAAA1QAAAAAAAAAAAAAAAAAAAAAAAAAAAAAAAQAAAAAAAAPA/AAAAAAAAAAAAAAAAAAAAAAAAAAAAABBAAAAAAAAAAAAAAAAAAAAAAAAAAAAAABhA",
          "dtype": "f8"
         },
         "yaxis": "y"
        },
        {
         "hovertemplate": "<b>%{hovertext}</b><br><br>Disaster Type=Infestation<br>Affected=%{x}<br>Deaths=%{y}<br>Loss_USD_adj=%{marker.size}<extra></extra>",
         "hovertext": [
          "Australia",
          "Burkina Faso",
          "Cabo Verde",
          "Chad",
          "China",
          "Djibouti",
          "Eritrea",
          "Ethiopia",
          "Gambia",
          "Iran (Islamic Republic of)",
          "Kenya",
          "Liberia",
          "Madagascar",
          "Mali",
          "Mauritania",
          "Morocco",
          "Niger",
          "Nigeria",
          "Pakistan",
          "Peru",
          "Russian Federation",
          "Senegal",
          "Somalia",
          "Sudan",
          "Uganda",
          "United Republic of Tanzania"
         ],
         "legendgroup": "Infestation",
         "marker": {
          "color": "#FECB52",
          "size": {
           "bdata": "AAAAsBwPqkEAAAAAAAAAAAAAAAAAAAAAAAAAAAAAAAAAAAAAAAAAAAAAAAAAAAAAAAAAAAAAAAAAAAAAAAAAAAAAAAAAAAAAAAAAAAAAAAAAAAAAAAAAAAAAAAAAAAAAAAAAAAAAAAAAAAAAAAAAAAAAAAAAAAAAAAAAAAAAAAAAAAAAAAAAAAAAAAAAAAAAAAAAAAAAAAAAAAAAAAAAAAAAAAAAAAAAAAAAAAAAAAAAAAAAAAAAAAAAAAAAAAAAAAAAAAAAAAAAAAAAAAAAAA==",
           "dtype": "f8"
          },
          "sizemode": "area",
          "sizeref": 439819017.5,
          "symbol": "circle"
         },
         "mode": "markers",
         "name": "Infestation",
         "showlegend": true,
         "type": "scattergl",
         "x": {
          "bdata": "AAAAAAAAAAAAAAAAAAAAAAAAAAAAAAAAAAAAAAAAAAAAAAAAAAAAAAAAAAAAAAAAAAAAAAAAAAAAAAAAAAAAAAAAAAAAAAAAAAAAAAAAAAAAAAAAAAAAAAAAAACAhB5BAAAAADCMQUEAAAAAAAAAAAAAAAAAahhBAAAAAAAAAAAAAAAAAAAAAAAAAAAAAAAAAAAAAAAAAAAAAAAAAAAAAAAAAAAAAAAAAAAAAAAAAAAAAAAAAAAAAAAAAAAAAAAAAAAAAAAAAAAAAAAAAAAAAA==",
          "dtype": "f8"
         },
         "xaxis": "x",
         "y": {
          "bdata": "AAAAAAAAAAAAAAAAAAAAAAAAAAAAAAAAAAAAAAAAAAAAAAAAAAAAAAAAAAAAAAAAAAAAAAAAAAAAAAAAAAAAAAAAAAAAAAAAAAAAAAAAAAAAAAAAAAAAAAAAAAAAAAAAAAAAAAAAAAAAAAAAAAAAAAAAAAAAAAAAAAAAAAAAAAAAAAAAAAAAAAAAAAAAAAAAAAAAAAAAAAAAAAAAAAAAAAAAAAAAAAAAAAAAAAAAAAAAAAAAAAAAAAAAAAAAAAAAAAAAAAAAAAAAAAAAAAAAAA==",
          "dtype": "f8"
         },
         "yaxis": "y"
        },
        {
         "hovertemplate": "<b>%{hovertext}</b><br><br>Disaster Type=Glacial lake outburst flood<br>Affected=%{x}<br>Deaths=%{y}<br>Loss_USD_adj=%{marker.size}<extra></extra>",
         "hovertext": [
          "China",
          "India",
          "Italy",
          "Nepal",
          "Switzerland"
         ],
         "legendgroup": "Glacial lake outburst flood",
         "marker": {
          "color": "#636efa",
          "size": {
           "bdata": "AAAAAAAAAAAAAABwCfusQQAAAAAAAAAAAAAAAAAAAAAAAAAAAAAAAA==",
           "dtype": "f8"
          },
          "sizemode": "area",
          "sizeref": 439819017.5,
          "symbol": "circle"
         },
         "mode": "markers",
         "name": "Glacial lake outburst flood",
         "showlegend": true,
         "type": "scattergl",
         "x": {
          "bdata": "AAAAAAAAAAAAAAAAgJb1QAAAAAAAAAAAAAAAAABYtkAAAAAAAAAAAA==",
          "dtype": "f8"
         },
         "xaxis": "x",
         "y": {
          "bdata": "AAAAAAAANEAAAAAAAMB6QAAAAAAAACZAAAAAAAAAMkAAAAAAAADwPw==",
          "dtype": "f8"
         },
         "yaxis": "y"
        },
        {
         "hovertemplate": "<b>%{hovertext}</b><br><br>Disaster Type=Mass movement (dry)<br>Affected=%{x}<br>Deaths=%{y}<br>Loss_USD_adj=%{marker.size}<extra></extra>",
         "hovertext": [
          "China",
          "Colombia",
          "Ecuador",
          "Egypt",
          "Guatemala",
          "India",
          "Madagascar",
          "Myanmar",
          "Pakistan",
          "Papua New Guinea",
          "Philippines",
          "Switzerland"
         ],
         "legendgroup": "Mass movement (dry)",
         "marker": {
          "color": "#EF553B",
          "size": {
           "bdata": "AAAAAMSLZEEAAAAAAAAAAAAAAAAAAAAAAAAAAAAAAAAAAAAAAAAAAAAAAAAAAAAAAAAAAAAAAAAAAAAAAAAAAAAAAAAAAAAAAAAAAAAAAAAAAAAAAAAAAAAAAAAAAAAA",
           "dtype": "f8"
          },
          "sizemode": "area",
          "sizeref": 439819017.5,
          "symbol": "circle"
         },
         "mode": "markers",
         "name": "Mass movement (dry)",
         "showlegend": true,
         "type": "scattergl",
         "x": {
          "bdata": "AAAAAACAdkAAAAAAAAAAAAAAAAAAAAAAAAAAAADIhUAAAAAAAKinQAAAAAAAAAAAAAAAAAAAJEAAAAAAAAAAAAAAAAAAAAAAAAAAAAAAAAAAAAAAAAAAAAAAAAAAAGlA",
          "dtype": "f8"
         },
         "xaxis": "x",
         "y": {
          "bdata": "AAAAAABAWUAAAAAAAAAoQAAAAAAAAE5AAAAAAACAWEAAAAAAAABCQAAAAAAAADBAAAAAAAAAMEAAAAAAAAAxQAAAAAAAACpAAAAAAAAAJEAAAAAAAAAmQAAAAAAAACBA",
          "dtype": "f8"
         },
         "yaxis": "y"
        },
        {
         "hovertemplate": "<b>%{hovertext}</b><br><br>Disaster Type=Animal incident<br>Affected=%{x}<br>Deaths=%{y}<br>Loss_USD_adj=%{marker.size}<extra></extra>",
         "hovertext": [
          "Niger"
         ],
         "legendgroup": "Animal incident",
         "marker": {
          "color": "#00cc96",
          "size": {
           "bdata": "AAAAAAAAAAA=",
           "dtype": "f8"
          },
          "sizemode": "area",
          "sizeref": 439819017.5,
          "symbol": "circle"
         },
         "mode": "markers",
         "name": "Animal incident",
         "showlegend": true,
         "type": "scattergl",
         "x": {
          "bdata": "AAAAAAAAFEA=",
          "dtype": "f8"
         },
         "xaxis": "x",
         "y": {
          "bdata": "AAAAAAAAKEA=",
          "dtype": "f8"
         },
         "yaxis": "y"
        },
        {
         "hovertemplate": "<b>%{hovertext}</b><br><br>Disaster Type=Impact<br>Affected=%{x}<br>Deaths=%{y}<br>Loss_USD_adj=%{marker.size}<extra></extra>",
         "hovertext": [
          "Russian Federation"
         ],
         "legendgroup": "Impact",
         "marker": {
          "color": "#ab63fa",
          "size": {
           "bdata": "AAAAAFEwhUE=",
           "dtype": "f8"
          },
          "sizemode": "area",
          "sizeref": 439819017.5,
          "symbol": "circle"
         },
         "mode": "markers",
         "name": "Impact",
         "showlegend": true,
         "type": "scattergl",
         "x": {
          "bdata": "AAAAAMxmEkE=",
          "dtype": "f8"
         },
         "xaxis": "x",
         "y": {
          "bdata": "AAAAAAAAAAA=",
          "dtype": "f8"
         },
         "yaxis": "y"
        }
       ],
       "layout": {
        "legend": {
         "itemsizing": "constant",
         "title": {
          "text": "Disaster Type"
         },
         "tracegroupgap": 0
        },
        "template": {
         "data": {
          "bar": [
           {
            "error_x": {
             "color": "#2a3f5f"
            },
            "error_y": {
             "color": "#2a3f5f"
            },
            "marker": {
             "line": {
              "color": "#E5ECF6",
              "width": 0.5
             },
             "pattern": {
              "fillmode": "overlay",
              "size": 10,
              "solidity": 0.2
             }
            },
            "type": "bar"
           }
          ],
          "barpolar": [
           {
            "marker": {
             "line": {
              "color": "#E5ECF6",
              "width": 0.5
             },
             "pattern": {
              "fillmode": "overlay",
              "size": 10,
              "solidity": 0.2
             }
            },
            "type": "barpolar"
           }
          ],
          "carpet": [
           {
            "aaxis": {
             "endlinecolor": "#2a3f5f",
             "gridcolor": "white",
             "linecolor": "white",
             "minorgridcolor": "white",
             "startlinecolor": "#2a3f5f"
            },
            "baxis": {
             "endlinecolor": "#2a3f5f",
             "gridcolor": "white",
             "linecolor": "white",
             "minorgridcolor": "white",
             "startlinecolor": "#2a3f5f"
            },
            "type": "carpet"
           }
          ],
          "choropleth": [
           {
            "colorbar": {
             "outlinewidth": 0,
             "ticks": ""
            },
            "type": "choropleth"
           }
          ],
          "contour": [
           {
            "colorbar": {
             "outlinewidth": 0,
             "ticks": ""
            },
            "colorscale": [
             [
              0,
              "#0d0887"
             ],
             [
              0.1111111111111111,
              "#46039f"
             ],
             [
              0.2222222222222222,
              "#7201a8"
             ],
             [
              0.3333333333333333,
              "#9c179e"
             ],
             [
              0.4444444444444444,
              "#bd3786"
             ],
             [
              0.5555555555555556,
              "#d8576b"
             ],
             [
              0.6666666666666666,
              "#ed7953"
             ],
             [
              0.7777777777777778,
              "#fb9f3a"
             ],
             [
              0.8888888888888888,
              "#fdca26"
             ],
             [
              1,
              "#f0f921"
             ]
            ],
            "type": "contour"
           }
          ],
          "contourcarpet": [
           {
            "colorbar": {
             "outlinewidth": 0,
             "ticks": ""
            },
            "type": "contourcarpet"
           }
          ],
          "heatmap": [
           {
            "colorbar": {
             "outlinewidth": 0,
             "ticks": ""
            },
            "colorscale": [
             [
              0,
              "#0d0887"
             ],
             [
              0.1111111111111111,
              "#46039f"
             ],
             [
              0.2222222222222222,
              "#7201a8"
             ],
             [
              0.3333333333333333,
              "#9c179e"
             ],
             [
              0.4444444444444444,
              "#bd3786"
             ],
             [
              0.5555555555555556,
              "#d8576b"
             ],
             [
              0.6666666666666666,
              "#ed7953"
             ],
             [
              0.7777777777777778,
              "#fb9f3a"
             ],
             [
              0.8888888888888888,
              "#fdca26"
             ],
             [
              1,
              "#f0f921"
             ]
            ],
            "type": "heatmap"
           }
          ],
          "histogram": [
           {
            "marker": {
             "pattern": {
              "fillmode": "overlay",
              "size": 10,
              "solidity": 0.2
             }
            },
            "type": "histogram"
           }
          ],
          "histogram2d": [
           {
            "colorbar": {
             "outlinewidth": 0,
             "ticks": ""
            },
            "colorscale": [
             [
              0,
              "#0d0887"
             ],
             [
              0.1111111111111111,
              "#46039f"
             ],
             [
              0.2222222222222222,
              "#7201a8"
             ],
             [
              0.3333333333333333,
              "#9c179e"
             ],
             [
              0.4444444444444444,
              "#bd3786"
             ],
             [
              0.5555555555555556,
              "#d8576b"
             ],
             [
              0.6666666666666666,
              "#ed7953"
             ],
             [
              0.7777777777777778,
              "#fb9f3a"
             ],
             [
              0.8888888888888888,
              "#fdca26"
             ],
             [
              1,
              "#f0f921"
             ]
            ],
            "type": "histogram2d"
           }
          ],
          "histogram2dcontour": [
           {
            "colorbar": {
             "outlinewidth": 0,
             "ticks": ""
            },
            "colorscale": [
             [
              0,
              "#0d0887"
             ],
             [
              0.1111111111111111,
              "#46039f"
             ],
             [
              0.2222222222222222,
              "#7201a8"
             ],
             [
              0.3333333333333333,
              "#9c179e"
             ],
             [
              0.4444444444444444,
              "#bd3786"
             ],
             [
              0.5555555555555556,
              "#d8576b"
             ],
             [
              0.6666666666666666,
              "#ed7953"
             ],
             [
              0.7777777777777778,
              "#fb9f3a"
             ],
             [
              0.8888888888888888,
              "#fdca26"
             ],
             [
              1,
              "#f0f921"
             ]
            ],
            "type": "histogram2dcontour"
           }
          ],
          "mesh3d": [
           {
            "colorbar": {
             "outlinewidth": 0,
             "ticks": ""
            },
            "type": "mesh3d"
           }
          ],
          "parcoords": [
           {
            "line": {
             "colorbar": {
              "outlinewidth": 0,
              "ticks": ""
             }
            },
            "type": "parcoords"
           }
          ],
          "pie": [
           {
            "automargin": true,
            "type": "pie"
           }
          ],
          "scatter": [
           {
            "fillpattern": {
             "fillmode": "overlay",
             "size": 10,
             "solidity": 0.2
            },
            "type": "scatter"
           }
          ],
          "scatter3d": [
           {
            "line": {
             "colorbar": {
              "outlinewidth": 0,
              "ticks": ""
             }
            },
            "marker": {
             "colorbar": {
              "outlinewidth": 0,
              "ticks": ""
             }
            },
            "type": "scatter3d"
           }
          ],
          "scattercarpet": [
           {
            "marker": {
             "colorbar": {
              "outlinewidth": 0,
              "ticks": ""
             }
            },
            "type": "scattercarpet"
           }
          ],
          "scattergeo": [
           {
            "marker": {
             "colorbar": {
              "outlinewidth": 0,
              "ticks": ""
             }
            },
            "type": "scattergeo"
           }
          ],
          "scattergl": [
           {
            "marker": {
             "colorbar": {
              "outlinewidth": 0,
              "ticks": ""
             }
            },
            "type": "scattergl"
           }
          ],
          "scattermap": [
           {
            "marker": {
             "colorbar": {
              "outlinewidth": 0,
              "ticks": ""
             }
            },
            "type": "scattermap"
           }
          ],
          "scattermapbox": [
           {
            "marker": {
             "colorbar": {
              "outlinewidth": 0,
              "ticks": ""
             }
            },
            "type": "scattermapbox"
           }
          ],
          "scatterpolar": [
           {
            "marker": {
             "colorbar": {
              "outlinewidth": 0,
              "ticks": ""
             }
            },
            "type": "scatterpolar"
           }
          ],
          "scatterpolargl": [
           {
            "marker": {
             "colorbar": {
              "outlinewidth": 0,
              "ticks": ""
             }
            },
            "type": "scatterpolargl"
           }
          ],
          "scatterternary": [
           {
            "marker": {
             "colorbar": {
              "outlinewidth": 0,
              "ticks": ""
             }
            },
            "type": "scatterternary"
           }
          ],
          "surface": [
           {
            "colorbar": {
             "outlinewidth": 0,
             "ticks": ""
            },
            "colorscale": [
             [
              0,
              "#0d0887"
             ],
             [
              0.1111111111111111,
              "#46039f"
             ],
             [
              0.2222222222222222,
              "#7201a8"
             ],
             [
              0.3333333333333333,
              "#9c179e"
             ],
             [
              0.4444444444444444,
              "#bd3786"
             ],
             [
              0.5555555555555556,
              "#d8576b"
             ],
             [
              0.6666666666666666,
              "#ed7953"
             ],
             [
              0.7777777777777778,
              "#fb9f3a"
             ],
             [
              0.8888888888888888,
              "#fdca26"
             ],
             [
              1,
              "#f0f921"
             ]
            ],
            "type": "surface"
           }
          ],
          "table": [
           {
            "cells": {
             "fill": {
              "color": "#EBF0F8"
             },
             "line": {
              "color": "white"
             }
            },
            "header": {
             "fill": {
              "color": "#C8D4E3"
             },
             "line": {
              "color": "white"
             }
            },
            "type": "table"
           }
          ]
         },
         "layout": {
          "annotationdefaults": {
           "arrowcolor": "#2a3f5f",
           "arrowhead": 0,
           "arrowwidth": 1
          },
          "autotypenumbers": "strict",
          "coloraxis": {
           "colorbar": {
            "outlinewidth": 0,
            "ticks": ""
           }
          },
          "colorscale": {
           "diverging": [
            [
             0,
             "#8e0152"
            ],
            [
             0.1,
             "#c51b7d"
            ],
            [
             0.2,
             "#de77ae"
            ],
            [
             0.3,
             "#f1b6da"
            ],
            [
             0.4,
             "#fde0ef"
            ],
            [
             0.5,
             "#f7f7f7"
            ],
            [
             0.6,
             "#e6f5d0"
            ],
            [
             0.7,
             "#b8e186"
            ],
            [
             0.8,
             "#7fbc41"
            ],
            [
             0.9,
             "#4d9221"
            ],
            [
             1,
             "#276419"
            ]
           ],
           "sequential": [
            [
             0,
             "#0d0887"
            ],
            [
             0.1111111111111111,
             "#46039f"
            ],
            [
             0.2222222222222222,
             "#7201a8"
            ],
            [
             0.3333333333333333,
             "#9c179e"
            ],
            [
             0.4444444444444444,
             "#bd3786"
            ],
            [
             0.5555555555555556,
             "#d8576b"
            ],
            [
             0.6666666666666666,
             "#ed7953"
            ],
            [
             0.7777777777777778,
             "#fb9f3a"
            ],
            [
             0.8888888888888888,
             "#fdca26"
            ],
            [
             1,
             "#f0f921"
            ]
           ],
           "sequentialminus": [
            [
             0,
             "#0d0887"
            ],
            [
             0.1111111111111111,
             "#46039f"
            ],
            [
             0.2222222222222222,
             "#7201a8"
            ],
            [
             0.3333333333333333,
             "#9c179e"
            ],
            [
             0.4444444444444444,
             "#bd3786"
            ],
            [
             0.5555555555555556,
             "#d8576b"
            ],
            [
             0.6666666666666666,
             "#ed7953"
            ],
            [
             0.7777777777777778,
             "#fb9f3a"
            ],
            [
             0.8888888888888888,
             "#fdca26"
            ],
            [
             1,
             "#f0f921"
            ]
           ]
          },
          "colorway": [
           "#636efa",
           "#EF553B",
           "#00cc96",
           "#ab63fa",
           "#FFA15A",
           "#19d3f3",
           "#FF6692",
           "#B6E880",
           "#FF97FF",
           "#FECB52"
          ],
          "font": {
           "color": "#2a3f5f"
          },
          "geo": {
           "bgcolor": "white",
           "lakecolor": "white",
           "landcolor": "#E5ECF6",
           "showlakes": true,
           "showland": true,
           "subunitcolor": "white"
          },
          "hoverlabel": {
           "align": "left"
          },
          "hovermode": "closest",
          "mapbox": {
           "style": "light"
          },
          "paper_bgcolor": "white",
          "plot_bgcolor": "#E5ECF6",
          "polar": {
           "angularaxis": {
            "gridcolor": "white",
            "linecolor": "white",
            "ticks": ""
           },
           "bgcolor": "#E5ECF6",
           "radialaxis": {
            "gridcolor": "white",
            "linecolor": "white",
            "ticks": ""
           }
          },
          "scene": {
           "xaxis": {
            "backgroundcolor": "#E5ECF6",
            "gridcolor": "white",
            "gridwidth": 2,
            "linecolor": "white",
            "showbackground": true,
            "ticks": "",
            "zerolinecolor": "white"
           },
           "yaxis": {
            "backgroundcolor": "#E5ECF6",
            "gridcolor": "white",
            "gridwidth": 2,
            "linecolor": "white",
            "showbackground": true,
            "ticks": "",
            "zerolinecolor": "white"
           },
           "zaxis": {
            "backgroundcolor": "#E5ECF6",
            "gridcolor": "white",
            "gridwidth": 2,
            "linecolor": "white",
            "showbackground": true,
            "ticks": "",
            "zerolinecolor": "white"
           }
          },
          "shapedefaults": {
           "line": {
            "color": "#2a3f5f"
           }
          },
          "ternary": {
           "aaxis": {
            "gridcolor": "white",
            "linecolor": "white",
            "ticks": ""
           },
           "baxis": {
            "gridcolor": "white",
            "linecolor": "white",
            "ticks": ""
           },
           "bgcolor": "#E5ECF6",
           "caxis": {
            "gridcolor": "white",
            "linecolor": "white",
            "ticks": ""
           }
          },
          "title": {
           "x": 0.05
          },
          "xaxis": {
           "automargin": true,
           "gridcolor": "white",
           "linecolor": "white",
           "ticks": "",
           "title": {
            "standoff": 15
           },
           "zerolinecolor": "white",
           "zerolinewidth": 2
          },
          "yaxis": {
           "automargin": true,
           "gridcolor": "white",
           "linecolor": "white",
           "ticks": "",
           "title": {
            "standoff": 15
           },
           "zerolinecolor": "white",
           "zerolinewidth": 2
          }
         }
        },
        "title": {
         "text": "Risk matrix: affected population vs. deaths vs. economic loss"
        },
        "xaxis": {
         "anchor": "y",
         "domain": [
          0,
          1
         ],
         "title": {
          "text": "Affected"
         },
         "type": "log"
        },
        "yaxis": {
         "anchor": "x",
         "domain": [
          0,
          1
         ],
         "title": {
          "text": "Deaths"
         },
         "type": "log"
        }
       }
      }
     },
     "metadata": {},
     "output_type": "display_data"
    }
   ],
   "source": [
    "bubble = df.groupby(['Country', 'Disaster Type']).agg(\n",
    "            Deaths=('Deaths', 'sum'),\n",
    "            Affected=('Affected', 'sum'),\n",
    "            Loss_USD_adj=('Loss_USD_adj', 'sum')).reset_index()\n",
    "\n",
    "fig = px.scatter(bubble,\n",
    "                 x='Affected',\n",
    "                 y='Deaths',\n",
    "                 size='Loss_USD_adj',\n",
    "                 color='Disaster Type',\n",
    "                 hover_name='Country',\n",
    "                 log_x=True,\n",
    "                 log_y=True,\n",
    "                 size_max=60,\n",
    "                 title='Risk matrix: affected population vs. deaths vs. economic loss')\n",
    "fig.show()"
   ]
  },
  {
   "cell_type": "markdown",
   "id": "b7ca2a07",
   "metadata": {},
   "source": [
    "## 📊 9. Top-10 disaster types by frequency  \n",
    "Quick horizontal bar chart showing which **disaster categories** dominate the dataset.  \n",
    "- Uses **Seaborn’s** clean `mako` palette for a polished look.  \n",
    "- Horizontal layout keeps long category names readable."
   ]
  },
  {
   "cell_type": "code",
   "execution_count": 27,
   "id": "71332e10",
   "metadata": {},
   "outputs": [
    {
     "name": "stderr",
     "output_type": "stream",
     "text": [
      "/tmp/ipykernel_278064/2759803184.py:4: FutureWarning:\n",
      "\n",
      "\n",
      "\n",
      "Passing `palette` without assigning `hue` is deprecated and will be removed in v0.14.0. Assign the `y` variable to `hue` and set `legend=False` for the same effect.\n",
      "\n",
      "\n"
     ]
    },
    {
     "data": {
      "image/png": "[encoded data removed]",
      "text/plain": [
       "<Figure size 800x400 with 1 Axes>"
      ]
     },
     "metadata": {},
     "output_type": "display_data"
    }
   ],
   "source": [
    "if 'Disaster Type' in emdat.columns:\n",
    "    top_types = emdat['Disaster Type'].value_counts().head(10)\n",
    "    plt.figure(figsize=(8,4))\n",
    "    sns.barplot(x=top_types.values, y=top_types.index, orient='h',palette='mako')\n",
    "    plt.title('Top 10 disaster types by number of events')\n",
    "    plt.xlabel('Events')\n",
    "    plt.ylabel('Disaster Type')\n",
    "    plt.tight_layout()\n",
    "    plt.show()"
   ]
  },
  {
   "cell_type": "markdown",
   "id": "e5e9015e",
   "metadata": {},
   "source": [
    "## 🗺️ 10. Global heat-map of cumulative deaths  \n",
    "Interactive **choropleth** that shades each country by total recorded deaths.  \n",
    "- Colour ramp: `Reds` (darker = higher toll).  \n",
    "- Hover to see exact figures.  \n",
    "- Margins trimmed for clean embedding in slides or dashboards."
   ]
  },
  {
   "cell_type": "code",
   "execution_count": 13,
   "id": "4c6334a6",
   "metadata": {},
   "outputs": [
    {
     "data": {
      "application/vnd.plotly.v1+json": {
       "config": {
        "plotlyServerURL": "https://plot.ly"
       },
       "data": [
        {
         "coloraxis": "coloraxis",
         "geo": "geo",
         "hovertemplate": "Country=%{location}<br>Deaths=%{z}<extra></extra>",
         "locationmode": "country names",
         "locations": [
          "Afghanistan",
          "Albania",
          "Algeria",
          "American Samoa",
          "Angola",
          "Anguilla",
          "Antigua and Barbuda",
          "Argentina",
          "Armenia",
          "Australia",
          "Austria",
          "Azerbaijan",
          "Bahamas",
          "Bangladesh",
          "Barbados",
          "Belarus",
          "Belgium",
          "Belize",
          "Benin",
          "Bermuda",
          "Bhutan",
          "Bolivia (Plurinational State of)",
          "Bosnia and Herzegovina",
          "Botswana",
          "Brazil",
          "British Virgin Islands",
          "Bulgaria",
          "Burkina Faso",
          "Burundi",
          "Cabo Verde",
          "Cambodia",
          "Cameroon",
          "Canada",
          "Canary Islands",
          "Cayman Islands",
          "Central African Republic",
          "Chad",
          "Chile",
          "China",
          "China, Hong Kong Special Administrative Region",
          "China, Macao Special Administrative Region",
          "Colombia",
          "Comoros",
          "Congo",
          "Cook Islands",
          "Costa Rica",
          "Croatia",
          "Cuba",
          "Cyprus",
          "Czechia",
          "Côte d’Ivoire",
          "Democratic People's Republic of Korea",
          "Democratic Republic of the Congo",
          "Denmark",
          "Djibouti",
          "Dominica",
          "Dominican Republic",
          "Ecuador",
          "Egypt",
          "El Salvador",
          "Equatorial Guinea",
          "Eritrea",
          "Estonia",
          "Eswatini",
          "Ethiopia",
          "Fiji",
          "Finland",
          "France",
          "French Guiana",
          "French Polynesia",
          "Gabon",
          "Gambia",
          "Georgia",
          "Germany",
          "Ghana",
          "Greece",
          "Grenada",
          "Guadeloupe",
          "Guam",
          "Guatemala",
          "Guinea",
          "Guinea-Bissau",
          "Guyana",
          "Haiti",
          "Honduras",
          "Hungary",
          "Iceland",
          "India",
          "Indonesia",
          "Iran (Islamic Republic of)",
          "Iraq",
          "Ireland",
          "Israel",
          "Italy",
          "Jamaica",
          "Japan",
          "Jordan",
          "Kazakhstan",
          "Kenya",
          "Kiribati",
          "Kuwait",
          "Kyrgyzstan",
          "Lao People's Democratic Republic",
          "Latvia",
          "Lebanon",
          "Lesotho",
          "Liberia",
          "Libya",
          "Liechtenstein",
          "Lithuania",
          "Luxembourg",
          "Madagascar",
          "Malawi",
          "Malaysia",
          "Maldives",
          "Mali",
          "Malta",
          "Marshall Islands",
          "Martinique",
          "Mauritania",
          "Mauritius",
          "Mayotte",
          "Mexico",
          "Micronesia (Federated States of)",
          "Mongolia",
          "Montenegro",
          "Montserrat",
          "Morocco",
          "Mozambique",
          "Myanmar",
          "Namibia",
          "Nepal",
          "Netherlands (Kingdom of the)",
          "New Caledonia",
          "New Zealand",
          "Nicaragua",
          "Niger",
          "Nigeria",
          "Niue",
          "North Macedonia",
          "Northern Mariana Islands",
          "Norway",
          "Oman",
          "Pakistan",
          "Palau",
          "Panama",
          "Papua New Guinea",
          "Paraguay",
          "Peru",
          "Philippines",
          "Poland",
          "Portugal",
          "Puerto Rico",
          "Qatar",
          "Republic of Korea",
          "Republic of Moldova",
          "Romania",
          "Russian Federation",
          "Rwanda",
          "Réunion",
          "Saint Barthélemy",
          "Saint Helena",
          "Saint Kitts and Nevis",
          "Saint Lucia",
          "Saint Martin (French Part)",
          "Saint Vincent and the Grenadines",
          "Samoa",
          "Sao Tome and Principe",
          "Saudi Arabia",
          "Senegal",
          "Serbia",
          "Serbia Montenegro",
          "Seychelles",
          "Sierra Leone",
          "Singapore",
          "Sint Maarten (Dutch part)",
          "Slovakia",
          "Slovenia",
          "Solomon Islands",
          "Somalia",
          "South Africa",
          "South Sudan",
          "Spain",
          "Sri Lanka",
          "State of Palestine",
          "Sudan",
          "Suriname",
          "Sweden",
          "Switzerland",
          "Syrian Arab Republic",
          "Taiwan (Province of China)",
          "Tajikistan",
          "Thailand",
          "Timor-Leste",
          "Togo",
          "Tokelau",
          "Tonga",
          "Trinidad and Tobago",
          "Tunisia",
          "Turkmenistan",
          "Turks and Caicos Islands",
          "Tuvalu",
          "Türkiye",
          "Uganda",
          "Ukraine",
          "United Arab Emirates",
          "United Kingdom of Great Britain and Northern Ireland",
          "United Republic of Tanzania",
          "United States Virgin Islands",
          "United States of America",
          "Uruguay",
          "Uzbekistan",
          "Vanuatu",
          "Venezuela (Bolivarian Republic of)",
          "Viet Nam",
          "Wallis and Futuna Islands",
          "Yemen",
          "Zambia",
          "Zimbabwe"
         ],
         "name": "",
         "type": "choropleth",
         "z": {
          "bdata": "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",
          "dtype": "f8"
         }
        }
       ],
       "layout": {
        "coloraxis": {
         "colorbar": {
          "title": {
           "text": "Deaths"
          }
         },
         "colorscale": [
          [
           0,
           "rgb(255,245,240)"
          ],
          [
           0.125,
           "rgb(254,224,210)"
          ],
          [
           0.25,
           "rgb(252,187,161)"
          ],
          [
           0.375,
           "rgb(252,146,114)"
          ],
          [
           0.5,
           "rgb(251,106,74)"
          ],
          [
           0.625,
           "rgb(239,59,44)"
          ],
          [
           0.75,
           "rgb(203,24,29)"
          ],
          [
           0.875,
           "rgb(165,15,21)"
          ],
          [
           1,
           "rgb(103,0,13)"
          ]
         ]
        },
        "geo": {
         "center": {},
         "domain": {
          "x": [
           0,
           1
          ],
          "y": [
           0,
           1
          ]
         }
        },
        "legend": {
         "tracegroupgap": 0
        },
        "margin": {
         "b": 0,
         "l": 0,
         "r": 0,
         "t": 40
        },
        "template": {
         "data": {
          "bar": [
           {
            "error_x": {
             "color": "#2a3f5f"
            },
            "error_y": {
             "color": "#2a3f5f"
            },
            "marker": {
             "line": {
              "color": "#E5ECF6",
              "width": 0.5
             },
             "pattern": {
              "fillmode": "overlay",
              "size": 10,
              "solidity": 0.2
             }
            },
            "type": "bar"
           }
          ],
          "barpolar": [
           {
            "marker": {
             "line": {
              "color": "#E5ECF6",
              "width": 0.5
             },
             "pattern": {
              "fillmode": "overlay",
              "size": 10,
              "solidity": 0.2
             }
            },
            "type": "barpolar"
           }
          ],
          "carpet": [
           {
            "aaxis": {
             "endlinecolor": "#2a3f5f",
             "gridcolor": "white",
             "linecolor": "white",
             "minorgridcolor": "white",
             "startlinecolor": "#2a3f5f"
            },
            "baxis": {
             "endlinecolor": "#2a3f5f",
             "gridcolor": "white",
             "linecolor": "white",
             "minorgridcolor": "white",
             "startlinecolor": "#2a3f5f"
            },
            "type": "carpet"
           }
          ],
          "choropleth": [
           {
            "colorbar": {
             "outlinewidth": 0,
             "ticks": ""
            },
            "type": "choropleth"
           }
          ],
          "contour": [
           {
            "colorbar": {
             "outlinewidth": 0,
             "ticks": ""
            },
            "colorscale": [
             [
              0,
              "#0d0887"
             ],
             [
              0.1111111111111111,
              "#46039f"
             ],
             [
              0.2222222222222222,
              "#7201a8"
             ],
             [
              0.3333333333333333,
              "#9c179e"
             ],
             [
              0.4444444444444444,
              "#bd3786"
             ],
             [
              0.5555555555555556,
              "#d8576b"
             ],
             [
              0.6666666666666666,
              "#ed7953"
             ],
             [
              0.7777777777777778,
              "#fb9f3a"
             ],
             [
              0.8888888888888888,
              "#fdca26"
             ],
             [
              1,
              "#f0f921"
             ]
            ],
            "type": "contour"
           }
          ],
          "contourcarpet": [
           {
            "colorbar": {
             "outlinewidth": 0,
             "ticks": ""
            },
            "type": "contourcarpet"
           }
          ],
          "heatmap": [
           {
            "colorbar": {
             "outlinewidth": 0,
             "ticks": ""
            },
            "colorscale": [
             [
              0,
              "#0d0887"
             ],
             [
              0.1111111111111111,
              "#46039f"
             ],
             [
              0.2222222222222222,
              "#7201a8"
             ],
             [
              0.3333333333333333,
              "#9c179e"
             ],
             [
              0.4444444444444444,
              "#bd3786"
             ],
             [
              0.5555555555555556,
              "#d8576b"
             ],
             [
              0.6666666666666666,
              "#ed7953"
             ],
             [
              0.7777777777777778,
              "#fb9f3a"
             ],
             [
              0.8888888888888888,
              "#fdca26"
             ],
             [
              1,
              "#f0f921"
             ]
            ],
            "type": "heatmap"
           }
          ],
          "histogram": [
           {
            "marker": {
             "pattern": {
              "fillmode": "overlay",
              "size": 10,
              "solidity": 0.2
             }
            },
            "type": "histogram"
           }
          ],
          "histogram2d": [
           {
            "colorbar": {
             "outlinewidth": 0,
             "ticks": ""
            },
            "colorscale": [
             [
              0,
              "#0d0887"
             ],
             [
              0.1111111111111111,
              "#46039f"
             ],
             [
              0.2222222222222222,
              "#7201a8"
             ],
             [
              0.3333333333333333,
              "#9c179e"
             ],
             [
              0.4444444444444444,
              "#bd3786"
             ],
             [
              0.5555555555555556,
              "#d8576b"
             ],
             [
              0.6666666666666666,
              "#ed7953"
             ],
             [
              0.7777777777777778,
              "#fb9f3a"
             ],
             [
              0.8888888888888888,
              "#fdca26"
             ],
             [
              1,
              "#f0f921"
             ]
            ],
            "type": "histogram2d"
           }
          ],
          "histogram2dcontour": [
           {
            "colorbar": {
             "outlinewidth": 0,
             "ticks": ""
            },
            "colorscale": [
             [
              0,
              "#0d0887"
             ],
             [
              0.1111111111111111,
              "#46039f"
             ],
             [
              0.2222222222222222,
              "#7201a8"
             ],
             [
              0.3333333333333333,
              "#9c179e"
             ],
             [
              0.4444444444444444,
              "#bd3786"
             ],
             [
              0.5555555555555556,
              "#d8576b"
             ],
             [
              0.6666666666666666,
              "#ed7953"
             ],
             [
              0.7777777777777778,
              "#fb9f3a"
             ],
             [
              0.8888888888888888,
              "#fdca26"
             ],
             [
              1,
              "#f0f921"
             ]
            ],
            "type": "histogram2dcontour"
           }
          ],
          "mesh3d": [
           {
            "colorbar": {
             "outlinewidth": 0,
             "ticks": ""
            },
            "type": "mesh3d"
           }
          ],
          "parcoords": [
           {
            "line": {
             "colorbar": {
              "outlinewidth": 0,
              "ticks": ""
             }
            },
            "type": "parcoords"
           }
          ],
          "pie": [
           {
            "automargin": true,
            "type": "pie"
           }
          ],
          "scatter": [
           {
            "fillpattern": {
             "fillmode": "overlay",
             "size": 10,
             "solidity": 0.2
            },
            "type": "scatter"
           }
          ],
          "scatter3d": [
           {
            "line": {
             "colorbar": {
              "outlinewidth": 0,
              "ticks": ""
             }
            },
            "marker": {
             "colorbar": {
              "outlinewidth": 0,
              "ticks": ""
             }
            },
            "type": "scatter3d"
           }
          ],
          "scattercarpet": [
           {
            "marker": {
             "colorbar": {
              "outlinewidth": 0,
              "ticks": ""
             }
            },
            "type": "scattercarpet"
           }
          ],
          "scattergeo": [
           {
            "marker": {
             "colorbar": {
              "outlinewidth": 0,
              "ticks": ""
             }
            },
            "type": "scattergeo"
           }
          ],
          "scattergl": [
           {
            "marker": {
             "colorbar": {
              "outlinewidth": 0,
              "ticks": ""
             }
            },
            "type": "scattergl"
           }
          ],
          "scattermap": [
           {
            "marker": {
             "colorbar": {
              "outlinewidth": 0,
              "ticks": ""
             }
            },
            "type": "scattermap"
           }
          ],
          "scattermapbox": [
           {
            "marker": {
             "colorbar": {
              "outlinewidth": 0,
              "ticks": ""
             }
            },
            "type": "scattermapbox"
           }
          ],
          "scatterpolar": [
           {
            "marker": {
             "colorbar": {
              "outlinewidth": 0,
              "ticks": ""
             }
            },
            "type": "scatterpolar"
           }
          ],
          "scatterpolargl": [
           {
            "marker": {
             "colorbar": {
              "outlinewidth": 0,
              "ticks": ""
             }
            },
            "type": "scatterpolargl"
           }
          ],
          "scatterternary": [
           {
            "marker": {
             "colorbar": {
              "outlinewidth": 0,
              "ticks": ""
             }
            },
            "type": "scatterternary"
           }
          ],
          "surface": [
           {
            "colorbar": {
             "outlinewidth": 0,
             "ticks": ""
            },
            "colorscale": [
             [
              0,
              "#0d0887"
             ],
             [
              0.1111111111111111,
              "#46039f"
             ],
             [
              0.2222222222222222,
              "#7201a8"
             ],
             [
              0.3333333333333333,
              "#9c179e"
             ],
             [
              0.4444444444444444,
              "#bd3786"
             ],
             [
              0.5555555555555556,
              "#d8576b"
             ],
             [
              0.6666666666666666,
              "#ed7953"
             ],
             [
              0.7777777777777778,
              "#fb9f3a"
             ],
             [
              0.8888888888888888,
              "#fdca26"
             ],
             [
              1,
              "#f0f921"
             ]
            ],
            "type": "surface"
           }
          ],
          "table": [
           {
            "cells": {
             "fill": {
              "color": "#EBF0F8"
             },
             "line": {
              "color": "white"
             }
            },
            "header": {
             "fill": {
              "color": "#C8D4E3"
             },
             "line": {
              "color": "white"
             }
            },
            "type": "table"
           }
          ]
         },
         "layout": {
          "annotationdefaults": {
           "arrowcolor": "#2a3f5f",
           "arrowhead": 0,
           "arrowwidth": 1
          },
          "autotypenumbers": "strict",
          "coloraxis": {
           "colorbar": {
            "outlinewidth": 0,
            "ticks": ""
           }
          },
          "colorscale": {
           "diverging": [
            [
             0,
             "#8e0152"
            ],
            [
             0.1,
             "#c51b7d"
            ],
            [
             0.2,
             "#de77ae"
            ],
            [
             0.3,
             "#f1b6da"
            ],
            [
             0.4,
             "#fde0ef"
            ],
            [
             0.5,
             "#f7f7f7"
            ],
            [
             0.6,
             "#e6f5d0"
            ],
            [
             0.7,
             "#b8e186"
            ],
            [
             0.8,
             "#7fbc41"
            ],
            [
             0.9,
             "#4d9221"
            ],
            [
             1,
             "#276419"
            ]
           ],
           "sequential": [
            [
             0,
             "#0d0887"
            ],
            [
             0.1111111111111111,
             "#46039f"
            ],
            [
             0.2222222222222222,
             "#7201a8"
            ],
            [
             0.3333333333333333,
             "#9c179e"
            ],
            [
             0.4444444444444444,
             "#bd3786"
            ],
            [
             0.5555555555555556,
             "#d8576b"
            ],
            [
             0.6666666666666666,
             "#ed7953"
            ],
            [
             0.7777777777777778,
             "#fb9f3a"
            ],
            [
             0.8888888888888888,
             "#fdca26"
            ],
            [
             1,
             "#f0f921"
            ]
           ],
           "sequentialminus": [
            [
             0,
             "#0d0887"
            ],
            [
             0.1111111111111111,
             "#46039f"
            ],
            [
             0.2222222222222222,
             "#7201a8"
            ],
            [
             0.3333333333333333,
             "#9c179e"
            ],
            [
             0.4444444444444444,
             "#bd3786"
            ],
            [
             0.5555555555555556,
             "#d8576b"
            ],
            [
             0.6666666666666666,
             "#ed7953"
            ],
            [
             0.7777777777777778,
             "#fb9f3a"
            ],
            [
             0.8888888888888888,
             "#fdca26"
            ],
            [
             1,
             "#f0f921"
            ]
           ]
          },
          "colorway": [
           "#636efa",
           "#EF553B",
           "#00cc96",
           "#ab63fa",
           "#FFA15A",
           "#19d3f3",
           "#FF6692",
           "#B6E880",
           "#FF97FF",
           "#FECB52"
          ],
          "font": {
           "color": "#2a3f5f"
          },
          "geo": {
           "bgcolor": "white",
           "lakecolor": "white",
           "landcolor": "#E5ECF6",
           "showlakes": true,
           "showland": true,
           "subunitcolor": "white"
          },
          "hoverlabel": {
           "align": "left"
          },
          "hovermode": "closest",
          "mapbox": {
           "style": "light"
          },
          "paper_bgcolor": "white",
          "plot_bgcolor": "#E5ECF6",
          "polar": {
           "angularaxis": {
            "gridcolor": "white",
            "linecolor": "white",
            "ticks": ""
           },
           "bgcolor": "#E5ECF6",
           "radialaxis": {
            "gridcolor": "white",
            "linecolor": "white",
            "ticks": ""
           }
          },
          "scene": {
           "xaxis": {
            "backgroundcolor": "#E5ECF6",
            "gridcolor": "white",
            "gridwidth": 2,
            "linecolor": "white",
            "showbackground": true,
            "ticks": "",
            "zerolinecolor": "white"
           },
           "yaxis": {
            "backgroundcolor": "#E5ECF6",
            "gridcolor": "white",
            "gridwidth": 2,
            "linecolor": "white",
            "showbackground": true,
            "ticks": "",
            "zerolinecolor": "white"
           },
           "zaxis": {
            "backgroundcolor": "#E5ECF6",
            "gridcolor": "white",
            "gridwidth": 2,
            "linecolor": "white",
            "showbackground": true,
            "ticks": "",
            "zerolinecolor": "white"
           }
          },
          "shapedefaults": {
           "line": {
            "color": "#2a3f5f"
           }
          },
          "ternary": {
           "aaxis": {
            "gridcolor": "white",
            "linecolor": "white",
            "ticks": ""
           },
           "baxis": {
            "gridcolor": "white",
            "linecolor": "white",
            "ticks": ""
           },
           "bgcolor": "#E5ECF6",
           "caxis": {
            "gridcolor": "white",
            "linecolor": "white",
            "ticks": ""
           }
          },
          "title": {
           "x": 0.05
          },
          "xaxis": {
           "automargin": true,
           "gridcolor": "white",
           "linecolor": "white",
           "ticks": "",
           "title": {
            "standoff": 15
           },
           "zerolinecolor": "white",
           "zerolinewidth": 2
          },
          "yaxis": {
           "automargin": true,
           "gridcolor": "white",
           "linecolor": "white",
           "ticks": "",
           "title": {
            "standoff": 15
           },
           "zerolinecolor": "white",
           "zerolinewidth": 2
          }
         }
        },
        "title": {
         "text": "Cumulative deaths (2000-2005) by country"
        }
       }
      }
     },
     "metadata": {},
     "output_type": "display_data"
    }
   ],
   "source": [
    "agg = df.groupby('Country')['Deaths'].sum().reset_index()\n",
    "fig = px.choropleth(\n",
    "        agg,\n",
    "        locations='Country',\n",
    "        locationmode='country names',\n",
    "        color='Deaths',\n",
    "        color_continuous_scale='Reds',\n",
    "        title='Cumulative deaths (2000-2005) by country'\n",
    ")\n",
    "fig.update_layout(margin=dict(l=0, r=0, t=40, b=0))\n",
    "fig.show()"
   ]
  },
  {
   "cell_type": "markdown",
   "id": "ed79c5fe",
   "metadata": {},
   "source": [
    "## 🌏 11. Disaster frequency by **UN region**  \n",
    "Horizontal bar plot of the ten most frequently affected regions.  \n",
    "- Uses the vibrant **viridis** palette for strong visual contrast.  \n",
    "- Helps quickly spot regions with the highest **event density**"
   ]
  },
  {
   "cell_type": "code",
   "execution_count": 24,
   "id": "9abc727d",
   "metadata": {},
   "outputs": [
    {
     "name": "stderr",
     "output_type": "stream",
     "text": [
      "/tmp/ipykernel_278064/2367315958.py:4: FutureWarning:\n",
      "\n",
      "\n",
      "\n",
      "Passing `palette` without assigning `hue` is deprecated and will be removed in v0.14.0. Assign the `y` variable to `hue` and set `legend=False` for the same effect.\n",
      "\n",
      "\n"
     ]
    },
    {
     "data": {
      "image/png": "[encoded data removed]",
      "text/plain": [
       "<Figure size 1000x400 with 1 Axes>"
      ]
     },
     "metadata": {},
     "output_type": "display_data"
    }
   ],
   "source": [
    "if 'Region' in emdat.columns:\n",
    "    region_counts = emdat['Region'].value_counts().head(10)\n",
    "    plt.figure(figsize=(10,4))\n",
    "    sns.barplot(x=region_counts.values, y=region_counts.index, orient='h',palette='viridis')\n",
    "    plt.title('Events by region (top 10)')\n",
    "    plt.xlabel('Events')\n",
    "    plt.ylabel('Region')\n",
    "    plt.tight_layout()\n",
    "    plt.show()"
   ]
  },
  {
   "cell_type": "markdown",
   "id": "ac4d849c",
   "metadata": {},
   "source": [
    "## 🌍 12. Top 10 Countries by Deaths and Economic Losses\n",
    "\n",
    "Side-by-side bar plots comparing the ten countries with the highest fatalities and greatest economic losses.\n",
    "\n",
    "- Top 10 countries by deaths are filtered using nlargest and sorted.\n",
    "- Economic losses use a custom billion-dollar formatter for clarity.\n",
    "- Visualized using seaborn with distinct color palettes: Reds_r for deaths and Blues_r for losses.\n",
    "- Layout is neatly adjusted with tight_layout to prevent overlap."
   ]
  },
  {
   "cell_type": "code",
   "execution_count": 19,
   "id": "9612c0a5",
   "metadata": {},
   "outputs": [
    {
     "name": "stderr",
     "output_type": "stream",
     "text": [
      "/tmp/ipykernel_278064/3237454969.py:6: FutureWarning:\n",
      "\n",
      "\n",
      "\n",
      "Passing `palette` without assigning `hue` is deprecated and will be removed in v0.14.0. Assign the `y` variable to `hue` and set `legend=False` for the same effect.\n",
      "\n",
      "\n",
      "/tmp/ipykernel_278064/3237454969.py:9: FutureWarning:\n",
      "\n",
      "\n",
      "\n",
      "Passing `palette` without assigning `hue` is deprecated and will be removed in v0.14.0. Assign the `y` variable to `hue` and set `legend=False` for the same effect.\n",
      "\n",
      "\n"
     ]
    },
    {
     "data": {
      "image/png": "[encoded data removed]",
      "text/plain": [
       "<Figure size 1400x500 with 2 Axes>"
      ]
     },
     "metadata": {},
     "output_type": "display_data"
    }
   ],
   "source": [
    "top_death = agg.nlargest(10, 'Deaths').sort_values('Deaths')\n",
    "top_loss  = df.groupby('Country')['Loss_USD_adj'].sum().nlargest(10).reset_index().sort_values('Loss_USD_adj')\n",
    "\n",
    "fig, ax = plt.subplots(1, 2, figsize=(14, 5))\n",
    "\n",
    "sns.barplot(y='Country', x='Deaths', data=top_death, palette='Reds_r', ax=ax[0])\n",
    "ax[0].set_title('Top 10 countries – deaths')\n",
    "\n",
    "sns.barplot(y='Country', x='Loss_USD_adj', data=top_loss, palette='Blues_r', ax=ax[1])\n",
    "ax[1].set_title('Top 10 countries – economic loss (USD, 2023 CPI)')\n",
    "ax[1].xaxis.set_major_formatter(lambda x, pos: f'${x/1e9:.1f}B')\n",
    "\n",
    "plt.tight_layout()"
   ]
  },
  {
   "cell_type": "markdown",
   "id": "a9131c79",
   "metadata": {},
   "source": [
    "## 📊 13. Annual Human Impact Over Time\n",
    "\n",
    "A line plot showing the annual human impact (Total Deaths and Total Affected) over time.\n",
    "\n",
    "- Checks for the presence of relevant columns (Total Deaths and Total Affected).\n",
    "- Groups data by year and computes annual human impact.\n",
    "- Visualizes impact metrics using sns.lineplot on a logarithmic scale.\n",
    "- Includes labels, legend, and dynamically adjusts layout for clarity."
   ]
  },
  {
   "cell_type": "code",
   "execution_count": 15,
   "id": "45be6fe8",
   "metadata": {},
   "outputs": [
    {
     "data": {
      "image/png": "[encoded data removed]",
      "text/plain": [
       "<Figure size 1000x400 with 1 Axes>"
      ]
     },
     "metadata": {},
     "output_type": "display_data"
    }
   ],
   "source": [
    "impact_to_plot = [c for c in ['Total Deaths','Total Affected'] if c in emdat.columns]\n",
    "if len(impact_to_plot) > 0:\n",
    "    annual_impact = emdat.groupby('Year')[impact_to_plot].sum(min_count=1).reset_index()\n",
    "    plt.figure(figsize=(10,4))\n",
    "    for c in impact_to_plot:\n",
    "        sns.lineplot(data=annual_impact.sort_values('Year'), x='Year', y=c, label=c)\n",
    "    plt.title('Human impact per year')\n",
    "    plt.xlabel('Year')\n",
    "    plt.ylabel('People')\n",
    "    plt.yscale('log')\n",
    "    plt.tight_layout()\n",
    "    plt.show()"
   ]
  },
  {
   "cell_type": "markdown",
   "id": "09c2b51e",
   "metadata": {},
   "source": [
    "## 🌍 14. Top Countries by Total Affected Population\n",
    "A horizontal bar plot of the top 15 countries with the highest cumulative affected population.\n",
    "\n",
    "- Groups data by Country and sums the Total Affected values.\n",
    "- Uses a logarithmic scale on the x-axis to visualize large data ranges.\n",
    "- Sorted in descending order for clear comparison.\n",
    "- Visualized using a horizontal bar layout for better label readability."
   ]
  },
  {
   "cell_type": "code",
   "execution_count": 26,
   "id": "7f89c5df",
   "metadata": {},
   "outputs": [
    {
     "name": "stderr",
     "output_type": "stream",
     "text": [
      "/tmp/ipykernel_278064/1803229783.py:4: FutureWarning:\n",
      "\n",
      "\n",
      "\n",
      "Passing `palette` without assigning `hue` is deprecated and will be removed in v0.14.0. Assign the `y` variable to `hue` and set `legend=False` for the same effect.\n",
      "\n",
      "\n"
     ]
    },
    {
     "data": {
      "image/png": "[encoded data removed]",
      "text/plain": [
       "<Figure size 1000x500 with 1 Axes>"
      ]
     },
     "metadata": {},
     "output_type": "display_data"
    }
   ],
   "source": [
    "if 'Country' in emdat.columns and 'Total Affected' in emdat.columns:\n",
    "    affected_by_country = emdat.groupby('Country')['Total Affected'].sum(min_count=1).sort_values(ascending=False).head(15)\n",
    "    plt.figure(figsize=(10,5))\n",
    "    sns.barplot(x=affected_by_country.values, y=affected_by_country.index, orient='h', palette='Reds_r')\n",
    "    plt.title('Countries by cumulative Total Affected (top 15)')\n",
    "    plt.xlabel('People affected')\n",
    "    plt.ylabel('Country')\n",
    "    plt.xscale('log')\n",
    "    plt.tight_layout()\n",
    "    plt.show()"
   ]
  },
  {
   "cell_type": "markdown",
   "id": "95e753c9",
   "metadata": {},
   "source": [
    "## ⚠️ 15. Deaths Distribution by Disaster Type\n",
    "A pie chart showing the proportion of total deaths across disaster types.\n",
    "\n",
    "- Data is grouped by disaster type and sorted by total deaths.\n",
    "- Visualized using Plotly for an interactive experience."
   ]
  },
  {
   "cell_type": "code",
   "execution_count": 28,
   "id": "0b128acc",
   "metadata": {},
   "outputs": [
    {
     "data": {
      "application/vnd.plotly.v1+json": {
       "config": {
        "plotlyServerURL": "https://plot.ly"
       },
       "data": [
        {
         "domain": {
          "x": [
           0,
           1
          ],
          "y": [
           0,
           1
          ]
         },
         "hovertemplate": "label=%{label}<br>value=%{value}<extra></extra>",
         "labels": [
          "Earthquake",
          "Extreme temperature",
          "Storm",
          "Flood",
          "Epidemic",
          "Drought",
          "Mass movement (wet)",
          "Wildfire",
          "Volcanic activity",
          "Glacial lake outburst flood",
          "Mass movement (dry)",
          "Animal incident",
          "Infestation",
          "Impact"
         ],
         "legendgroup": "",
         "name": "",
         "showlegend": true,
         "type": "pie",
         "values": {
          "bdata": "AAAAAKxAKEEAAAAA9LIRQQAAAABwSwtBAAAAABDmAEEAAAAAADn+QAAAAACAmtdAAAAAAICY1UAAAAAAAPShQAAAAAAAQJtAAAAAAADgfUAAAAAAAOB4QAAAAAAAAChAAAAAAAAAAAAAAAAAAAAAAA==",
          "dtype": "f8"
         }
        }
       ],
       "layout": {
        "legend": {
         "tracegroupgap": 0
        },
        "template": {
         "data": {
          "bar": [
           {
            "error_x": {
             "color": "#2a3f5f"
            },
            "error_y": {
             "color": "#2a3f5f"
            },
            "marker": {
             "line": {
              "color": "#E5ECF6",
              "width": 0.5
             },
             "pattern": {
              "fillmode": "overlay",
              "size": 10,
              "solidity": 0.2
             }
            },
            "type": "bar"
           }
          ],
          "barpolar": [
           {
            "marker": {
             "line": {
              "color": "#E5ECF6",
              "width": 0.5
             },
             "pattern": {
              "fillmode": "overlay",
              "size": 10,
              "solidity": 0.2
             }
            },
            "type": "barpolar"
           }
          ],
          "carpet": [
           {
            "aaxis": {
             "endlinecolor": "#2a3f5f",
             "gridcolor": "white",
             "linecolor": "white",
             "minorgridcolor": "white",
             "startlinecolor": "#2a3f5f"
            },
            "baxis": {
             "endlinecolor": "#2a3f5f",
             "gridcolor": "white",
             "linecolor": "white",
             "minorgridcolor": "white",
             "startlinecolor": "#2a3f5f"
            },
            "type": "carpet"
           }
          ],
          "choropleth": [
           {
            "colorbar": {
             "outlinewidth": 0,
             "ticks": ""
            },
            "type": "choropleth"
           }
          ],
          "contour": [
           {
            "colorbar": {
             "outlinewidth": 0,
             "ticks": ""
            },
            "colorscale": [
             [
              0,
              "#0d0887"
             ],
             [
              0.1111111111111111,
              "#46039f"
             ],
             [
              0.2222222222222222,
              "#7201a8"
             ],
             [
              0.3333333333333333,
              "#9c179e"
             ],
             [
              0.4444444444444444,
              "#bd3786"
             ],
             [
              0.5555555555555556,
              "#d8576b"
             ],
             [
              0.6666666666666666,
              "#ed7953"
             ],
             [
              0.7777777777777778,
              "#fb9f3a"
             ],
             [
              0.8888888888888888,
              "#fdca26"
             ],
             [
              1,
              "#f0f921"
             ]
            ],
            "type": "contour"
           }
          ],
          "contourcarpet": [
           {
            "colorbar": {
             "outlinewidth": 0,
             "ticks": ""
            },
            "type": "contourcarpet"
           }
          ],
          "heatmap": [
           {
            "colorbar": {
             "outlinewidth": 0,
             "ticks": ""
            },
            "colorscale": [
             [
              0,
              "#0d0887"
             ],
             [
              0.1111111111111111,
              "#46039f"
             ],
             [
              0.2222222222222222,
              "#7201a8"
             ],
             [
              0.3333333333333333,
              "#9c179e"
             ],
             [
              0.4444444444444444,
              "#bd3786"
             ],
             [
              0.5555555555555556,
              "#d8576b"
             ],
             [
              0.6666666666666666,
              "#ed7953"
             ],
             [
              0.7777777777777778,
              "#fb9f3a"
             ],
             [
              0.8888888888888888,
              "#fdca26"
             ],
             [
              1,
              "#f0f921"
             ]
            ],
            "type": "heatmap"
           }
          ],
          "histogram": [
           {
            "marker": {
             "pattern": {
              "fillmode": "overlay",
              "size": 10,
              "solidity": 0.2
             }
            },
            "type": "histogram"
           }
          ],
          "histogram2d": [
           {
            "colorbar": {
             "outlinewidth": 0,
             "ticks": ""
            },
            "colorscale": [
             [
              0,
              "#0d0887"
             ],
             [
              0.1111111111111111,
              "#46039f"
             ],
             [
              0.2222222222222222,
              "#7201a8"
             ],
             [
              0.3333333333333333,
              "#9c179e"
             ],
             [
              0.4444444444444444,
              "#bd3786"
             ],
             [
              0.5555555555555556,
              "#d8576b"
             ],
             [
              0.6666666666666666,
              "#ed7953"
             ],
             [
              0.7777777777777778,
              "#fb9f3a"
             ],
             [
              0.8888888888888888,
              "#fdca26"
             ],
             [
              1,
              "#f0f921"
             ]
            ],
            "type": "histogram2d"
           }
          ],
          "histogram2dcontour": [
           {
            "colorbar": {
             "outlinewidth": 0,
             "ticks": ""
            },
            "colorscale": [
             [
              0,
              "#0d0887"
             ],
             [
              0.1111111111111111,
              "#46039f"
             ],
             [
              0.2222222222222222,
              "#7201a8"
             ],
             [
              0.3333333333333333,
              "#9c179e"
             ],
             [
              0.4444444444444444,
              "#bd3786"
             ],
             [
              0.5555555555555556,
              "#d8576b"
             ],
             [
              0.6666666666666666,
              "#ed7953"
             ],
             [
              0.7777777777777778,
              "#fb9f3a"
             ],
             [
              0.8888888888888888,
              "#fdca26"
             ],
             [
              1,
              "#f0f921"
             ]
            ],
            "type": "histogram2dcontour"
           }
          ],
          "mesh3d": [
           {
            "colorbar": {
             "outlinewidth": 0,
             "ticks": ""
            },
            "type": "mesh3d"
           }
          ],
          "parcoords": [
           {
            "line": {
             "colorbar": {
              "outlinewidth": 0,
              "ticks": ""
             }
            },
            "type": "parcoords"
           }
          ],
          "pie": [
           {
            "automargin": true,
            "type": "pie"
           }
          ],
          "scatter": [
           {
            "fillpattern": {
             "fillmode": "overlay",
             "size": 10,
             "solidity": 0.2
            },
            "type": "scatter"
           }
          ],
          "scatter3d": [
           {
            "line": {
             "colorbar": {
              "outlinewidth": 0,
              "ticks": ""
             }
            },
            "marker": {
             "colorbar": {
              "outlinewidth": 0,
              "ticks": ""
             }
            },
            "type": "scatter3d"
           }
          ],
          "scattercarpet": [
           {
            "marker": {
             "colorbar": {
              "outlinewidth": 0,
              "ticks": ""
             }
            },
            "type": "scattercarpet"
           }
          ],
          "scattergeo": [
           {
            "marker": {
             "colorbar": {
              "outlinewidth": 0,
              "ticks": ""
             }
            },
            "type": "scattergeo"
           }
          ],
          "scattergl": [
           {
            "marker": {
             "colorbar": {
              "outlinewidth": 0,
              "ticks": ""
             }
            },
            "type": "scattergl"
           }
          ],
          "scattermap": [
           {
            "marker": {
             "colorbar": {
              "outlinewidth": 0,
              "ticks": ""
             }
            },
            "type": "scattermap"
           }
          ],
          "scattermapbox": [
           {
            "marker": {
             "colorbar": {
              "outlinewidth": 0,
              "ticks": ""
             }
            },
            "type": "scattermapbox"
           }
          ],
          "scatterpolar": [
           {
            "marker": {
             "colorbar": {
              "outlinewidth": 0,
              "ticks": ""
             }
            },
            "type": "scatterpolar"
           }
          ],
          "scatterpolargl": [
           {
            "marker": {
             "colorbar": {
              "outlinewidth": 0,
              "ticks": ""
             }
            },
            "type": "scatterpolargl"
           }
          ],
          "scatterternary": [
           {
            "marker": {
             "colorbar": {
              "outlinewidth": 0,
              "ticks": ""
             }
            },
            "type": "scatterternary"
           }
          ],
          "surface": [
           {
            "colorbar": {
             "outlinewidth": 0,
             "ticks": ""
            },
            "colorscale": [
             [
              0,
              "#0d0887"
             ],
             [
              0.1111111111111111,
              "#46039f"
             ],
             [
              0.2222222222222222,
              "#7201a8"
             ],
             [
              0.3333333333333333,
              "#9c179e"
             ],
             [
              0.4444444444444444,
              "#bd3786"
             ],
             [
              0.5555555555555556,
              "#d8576b"
             ],
             [
              0.6666666666666666,
              "#ed7953"
             ],
             [
              0.7777777777777778,
              "#fb9f3a"
             ],
             [
              0.8888888888888888,
              "#fdca26"
             ],
             [
              1,
              "#f0f921"
             ]
            ],
            "type": "surface"
           }
          ],
          "table": [
           {
            "cells": {
             "fill": {
              "color": "#EBF0F8"
             },
             "line": {
              "color": "white"
             }
            },
            "header": {
             "fill": {
              "color": "#C8D4E3"
             },
             "line": {
              "color": "white"
             }
            },
            "type": "table"
           }
          ]
         },
         "layout": {
          "annotationdefaults": {
           "arrowcolor": "#2a3f5f",
           "arrowhead": 0,
           "arrowwidth": 1
          },
          "autotypenumbers": "strict",
          "coloraxis": {
           "colorbar": {
            "outlinewidth": 0,
            "ticks": ""
           }
          },
          "colorscale": {
           "diverging": [
            [
             0,
             "#8e0152"
            ],
            [
             0.1,
             "#c51b7d"
            ],
            [
             0.2,
             "#de77ae"
            ],
            [
             0.3,
             "#f1b6da"
            ],
            [
             0.4,
             "#fde0ef"
            ],
            [
             0.5,
             "#f7f7f7"
            ],
            [
             0.6,
             "#e6f5d0"
            ],
            [
             0.7,
             "#b8e186"
            ],
            [
             0.8,
             "#7fbc41"
            ],
            [
             0.9,
             "#4d9221"
            ],
            [
             1,
             "#276419"
            ]
           ],
           "sequential": [
            [
             0,
             "#0d0887"
            ],
            [
             0.1111111111111111,
             "#46039f"
            ],
            [
             0.2222222222222222,
             "#7201a8"
            ],
            [
             0.3333333333333333,
             "#9c179e"
            ],
            [
             0.4444444444444444,
             "#bd3786"
            ],
            [
             0.5555555555555556,
             "#d8576b"
            ],
            [
             0.6666666666666666,
             "#ed7953"
            ],
            [
             0.7777777777777778,
             "#fb9f3a"
            ],
            [
             0.8888888888888888,
             "#fdca26"
            ],
            [
             1,
             "#f0f921"
            ]
           ],
           "sequentialminus": [
            [
             0,
             "#0d0887"
            ],
            [
             0.1111111111111111,
             "#46039f"
            ],
            [
             0.2222222222222222,
             "#7201a8"
            ],
            [
             0.3333333333333333,
             "#9c179e"
            ],
            [
             0.4444444444444444,
             "#bd3786"
            ],
            [
             0.5555555555555556,
             "#d8576b"
            ],
            [
             0.6666666666666666,
             "#ed7953"
            ],
            [
             0.7777777777777778,
             "#fb9f3a"
            ],
            [
             0.8888888888888888,
             "#fdca26"
            ],
            [
             1,
             "#f0f921"
            ]
           ]
          },
          "colorway": [
           "#636efa",
           "#EF553B",
           "#00cc96",
           "#ab63fa",
           "#FFA15A",
           "#19d3f3",
           "#FF6692",
           "#B6E880",
           "#FF97FF",
           "#FECB52"
          ],
          "font": {
           "color": "#2a3f5f"
          },
          "geo": {
           "bgcolor": "white",
           "lakecolor": "white",
           "landcolor": "#E5ECF6",
           "showlakes": true,
           "showland": true,
           "subunitcolor": "white"
          },
          "hoverlabel": {
           "align": "left"
          },
          "hovermode": "closest",
          "mapbox": {
           "style": "light"
          },
          "paper_bgcolor": "white",
          "plot_bgcolor": "#E5ECF6",
          "polar": {
           "angularaxis": {
            "gridcolor": "white",
            "linecolor": "white",
            "ticks": ""
           },
           "bgcolor": "#E5ECF6",
           "radialaxis": {
            "gridcolor": "white",
            "linecolor": "white",
            "ticks": ""
           }
          },
          "scene": {
           "xaxis": {
            "backgroundcolor": "#E5ECF6",
            "gridcolor": "white",
            "gridwidth": 2,
            "linecolor": "white",
            "showbackground": true,
            "ticks": "",
            "zerolinecolor": "white"
           },
           "yaxis": {
            "backgroundcolor": "#E5ECF6",
            "gridcolor": "white",
            "gridwidth": 2,
            "linecolor": "white",
            "showbackground": true,
            "ticks": "",
            "zerolinecolor": "white"
           },
           "zaxis": {
            "backgroundcolor": "#E5ECF6",
            "gridcolor": "white",
            "gridwidth": 2,
            "linecolor": "white",
            "showbackground": true,
            "ticks": "",
            "zerolinecolor": "white"
           }
          },
          "shapedefaults": {
           "line": {
            "color": "#2a3f5f"
           }
          },
          "ternary": {
           "aaxis": {
            "gridcolor": "white",
            "linecolor": "white",
            "ticks": ""
           },
           "baxis": {
            "gridcolor": "white",
            "linecolor": "white",
            "ticks": ""
           },
           "bgcolor": "#E5ECF6",
           "caxis": {
            "gridcolor": "white",
            "linecolor": "white",
            "ticks": ""
           }
          },
          "title": {
           "x": 0.05
          },
          "xaxis": {
           "automargin": true,
           "gridcolor": "white",
           "linecolor": "white",
           "ticks": "",
           "title": {
            "standoff": 15
           },
           "zerolinecolor": "white",
           "zerolinewidth": 2
          },
          "yaxis": {
           "automargin": true,
           "gridcolor": "white",
           "linecolor": "white",
           "ticks": "",
           "title": {
            "standoff": 15
           },
           "zerolinecolor": "white",
           "zerolinewidth": 2
          }
         }
        },
        "title": {
         "text": "Share of total deaths by disaster type"
        }
       }
      }
     },
     "metadata": {},
     "output_type": "display_data"
    }
   ],
   "source": [
    "type_death = df.groupby('Disaster Type')['Deaths'].sum().sort_values(ascending=False)\n",
    "fig = px.pie(names=type_death.index,\n",
    "             values=type_death.values,\n",
    "             title='Share of total deaths by disaster type')\n",
    "fig.show()"
   ]
  },
  {
   "cell_type": "markdown",
   "id": "4281001e",
   "metadata": {},
   "source": [
    "## 💀 16. Top 10 Deadliest Disasters\n",
    "A ranked list of the deadliest disaster events globally.\n",
    "\n",
    "- Filters events with missing casualty data.\n",
    "- Sorts by death count in descending order.\n",
    "- Displays key details for clear comparison.\n",
    "- Copy\n",
    "- Retry\n",
    "- Share\n"
   ]
  },
  {
   "cell_type": "code",
   "execution_count": 17,
   "id": "929927a9",
   "metadata": {},
   "outputs": [
    {
     "name": "stdout",
     "output_type": "stream",
     "text": [
      "Top 10 deadliest events:\n",
      "            Event Name                     Country  Year  Total Deaths\n",
      "4366               NaN                       Haiti  2010      222570.0\n",
      "2147               NaN                   Indonesia  2004      165708.0\n",
      "3666  Cyclone 'Nargis'                     Myanmar  2008      138366.0\n",
      "3670               NaN                       China  2008       87476.0\n",
      "2525               NaN                    Pakistan  2005       73338.0\n",
      "4576               NaN          Russian Federation  2010       55736.0\n",
      "9409               NaN                     Türkiye  2023       53000.0\n",
      "2150               NaN                   Sri Lanka  2004       35399.0\n",
      "1718               NaN  Iran (Islamic Republic of)  2003       26796.0\n",
      "1608               NaN                       Italy  2003       20089.0\n"
     ]
    }
   ],
   "source": [
    "if 'Total Deaths' in emdat.columns and 'Event Name' in emdat.columns:\n",
    "    deadliest = emdat[['Event Name','Country','Year','Total Deaths']].dropna(subset=['Total Deaths']).sort_values('Total Deaths', ascending=False).head(10)\n",
    "    print('Top 10 deadliest events:')\n",
    "    print(deadliest)"
   ]
  },
  {
   "cell_type": "markdown",
   "id": "d4a153bd",
   "metadata": {},
   "source": [
    "\n",
    "## Save the filtered data to a CSV file"
   ]
  },
  {
   "cell_type": "code",
   "execution_count": 18,
   "id": "14aeb127",
   "metadata": {},
   "outputs": [
    {
     "name": "stdout",
     "output_type": "stream",
     "text": [
      "Saved summary CSV to emdat_summary_meta.csv\n"
     ]
    }
   ],
   "source": [
    "summary = {\n",
    "    'records': [len(emdat)],\n",
    "    'years_min': [int(emdat['Year'].min()) if emdat['Year'].notna().any() else np.nan],\n",
    "    'years_max': [int(emdat['Year'].max()) if emdat['Year'].notna().any() else np.nan]\n",
    "}\n",
    "summary_df = pd.DataFrame(summary)\n",
    "summary_path = 'emdat_summary_meta.csv'\n",
    "summary_df.to_csv(summary_path, index=False)\n",
    "print('Saved summary CSV to ' + summary_path)"
   ]
  }
 ],
 "metadata": {
  "kernelspec": {
   "display_name": "jupyter_venv",
   "language": "python",
   "name": "jupyter_venv"
  },
  "language_info": {
   "codemirror_mode": {
    "name": "ipython",
    "version": 3
   },
   "file_extension": ".py",
   "mimetype": "text/x-python",
   "name": "python",
   "nbconvert_exporter": "python",
   "pygments_lexer": "ipython3",
   "version": "3.13.5"
  }
 },
 "nbformat": 4,
 "nbformat_minor": 5
}
